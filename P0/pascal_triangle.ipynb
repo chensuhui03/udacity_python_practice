{
 "cells": [
  {
   "cell_type": "markdown",
   "metadata": {},
   "source": [
    "### Problem Statement\n",
    "\n",
    "Find and return the `nth` row of Pascal's triangle in the form a list. `n` is 0-based.\n",
    "\n",
    "For exmaple, if `n = 4`, then `output = [1, 4, 6, 4, 1]`.\n",
    "\n",
    "To know more about Pascal's triangle: https://www.mathsisfun.com/pascals-triangle.html"
   ]
  },
  {
   "cell_type": "code",
   "execution_count": 1,
   "metadata": {},
   "outputs": [],
   "source": [
    "def nth_row_pascal(n):\n",
    "    \"\"\"\n",
    "    :param: - n - index (0 based)\n",
    "    return - list() representing nth row of Pascal's triangle\n",
    "    \"\"\"\n",
    "    if n == 0:\n",
    "        return[1]\n",
    "    \n",
    "    current_row = [1] # first row\n",
    "    \n",
    "    for i in range(1, n+1):\n",
    "        previous_row = current_row\n",
    "        current_row = [1] # add the first element for the row\n",
    "        for j in range(1,i):\n",
    "            next_number = previous_row[j] + previous_row[j-1]\n",
    "            current_row.append(next_number)\n",
    "        \n",
    "        current_row.append(1)\n",
    "    \n",
    "    return current_row\n"
   ]
  },
  {
   "cell_type": "markdown",
   "metadata": {},
   "source": [
    "### Design:\n",
    "**Think of the output first!!**\n",
    "0. We need to return a list.\n",
    "1. jth element in the current row is the sum of jth element and (j-1)th element from the previous row. \n",
    "2. From top to bottom -- row by row. *I'm not sure how to handle this case.*\n",
    "3. Need to handle index out of range. "
   ]
  },
  {
   "cell_type": "code",
   "execution_count": 2,
   "metadata": {},
   "outputs": [],
   "source": [
    "def test_function(test_case):\n",
    "    n = test_case[0]\n",
    "    solution = test_case[1]\n",
    "    output = nth_row_pascal(n)\n",
    "    if solution == output:\n",
    "        print(\"Pass\")\n",
    "    else:\n",
    "        print(\"Fail\")"
   ]
  },
  {
   "cell_type": "code",
   "execution_count": 3,
   "metadata": {},
   "outputs": [
    {
     "name": "stdout",
     "output_type": "stream",
     "text": [
      "Pass\n"
     ]
    }
   ],
   "source": [
    "n = 0\n",
    "solution = [1]\n",
    "\n",
    "test_case = [n, solution]\n",
    "test_function(test_case)"
   ]
  },
  {
   "cell_type": "code",
   "execution_count": 9,
   "metadata": {},
   "outputs": [
    {
     "name": "stdout",
     "output_type": "stream",
     "text": [
      "Pass\n"
     ]
    }
   ],
   "source": [
    "n = 1\n",
    "solution = [1, 1]\n",
    "\n",
    "test_case = [n, solution]\n",
    "test_function(test_case)"
   ]
  },
  {
   "cell_type": "code",
   "execution_count": 5,
   "metadata": {},
   "outputs": [
    {
     "name": "stdout",
     "output_type": "stream",
     "text": [
      "Pass\n"
     ]
    }
   ],
   "source": [
    "n = 2\n",
    "solution = [1, 2, 1]\n",
    "\n",
    "test_case = [n, solution]\n",
    "test_function(test_case)"
   ]
  },
  {
   "cell_type": "code",
   "execution_count": 6,
   "metadata": {},
   "outputs": [
    {
     "name": "stdout",
     "output_type": "stream",
     "text": [
      "Pass\n"
     ]
    }
   ],
   "source": [
    "n = 3\n",
    "solution = [1, 3, 3, 1]\n",
    "\n",
    "test_case = [n, solution]\n",
    "test_function(test_case)"
   ]
  },
  {
   "cell_type": "code",
   "execution_count": 7,
   "metadata": {},
   "outputs": [
    {
     "name": "stdout",
     "output_type": "stream",
     "text": [
      "Pass\n"
     ]
    }
   ],
   "source": [
    "n = 4\n",
    "solution = [1, 4, 6, 4, 1]\n",
    "\n",
    "test_case = [n, solution]\n",
    "test_function(test_case)"
   ]
  },
  {
   "cell_type": "code",
   "execution_count": 8,
   "metadata": {},
   "outputs": [],
   "source": [
    "def nth_row_pascal(n):\n",
    "    \n",
    "    if n == 0:\n",
    "        return [1]\n",
    "    \n",
    "    current_row = [1] # First row\n",
    "    \n",
    "    ''' Loop from 1 to n; `i` denotes the row number'''\n",
    "    for i in range(1, n + 1):\n",
    "        # Set the `current_row` from previous iteration as the `previous_row`\n",
    "        previous_row = current_row\n",
    "        \n",
    "        # Let's build the fresh current_row gradually\n",
    "        current_row = [1] # add the default first element at the 0^th index of the `i^th` row\n",
    "        \n",
    "        '''Loop from 1 to (i-1); `j` denotes the index of an element with in the `i^th` row'''\n",
    "        # Example, for 5th row we have considered n=4, \n",
    "        # we will iterate index from 1 to 3, because \n",
    "        # the default element at the 0^th index has already been added\n",
    "        for j in range(1, i):\n",
    "            \n",
    "            # An element at position `j` in the current row is the \n",
    "            # sum of elements at position `j` and `j-1` in the previous row.\n",
    "            next_number = previous_row[j] + previous_row[j - 1]\n",
    "            \n",
    "            # Append the new element to the current_row\n",
    "            current_row.append(next_number)\n",
    "            \n",
    "        current_row.append(1) # append the default last element\n",
    "    return current_row"
   ]
  },
  {
   "cell_type": "code",
   "execution_count": 11,
   "metadata": {},
   "outputs": [],
   "source": [
    "for i in range(1,1):\n",
    "    print(i)"
   ]
  },
  {
   "cell_type": "code",
   "execution_count": null,
   "metadata": {},
   "outputs": [],
   "source": []
  }
 ],
 "metadata": {
  "kernelspec": {
   "display_name": "Python 3",
   "language": "python",
   "name": "python3"
  },
  "language_info": {
   "codemirror_mode": {
    "name": "ipython",
    "version": 3
   },
   "file_extension": ".py",
   "mimetype": "text/x-python",
   "name": "python",
   "nbconvert_exporter": "python",
   "pygments_lexer": "ipython3",
   "version": "3.7.1"
  }
 },
 "nbformat": 4,
 "nbformat_minor": 2
}
