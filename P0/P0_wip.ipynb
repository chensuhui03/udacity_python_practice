{
 "cells": [
  {
   "cell_type": "code",
   "execution_count": 1,
   "metadata": {},
   "outputs": [
    {
     "data": {
      "text/plain": [
       "'\\nTASK 0:\\nWhat is the first record of texts and what is the last record of calls?\\nPrint messages:\\n\"First record of texts, <incoming number> texts <answering number> at time <time>\"\\n\"Last record of calls, <incoming number> calls <answering number> at time <time>, lasting <during> seconds\"\\n'"
      ]
     },
     "execution_count": 1,
     "metadata": {},
     "output_type": "execute_result"
    }
   ],
   "source": [
    "import csv\n",
    "with open('texts.csv', 'r') as f:\n",
    "    reader = csv.reader(f)\n",
    "    texts = list(reader)\n",
    "\n",
    "with open('calls.csv', 'r') as f:\n",
    "    reader = csv.reader(f)\n",
    "    calls = list(reader)\n"
   ]
  },
  {
   "cell_type": "code",
   "execution_count": 4,
   "metadata": {},
   "outputs": [
    {
     "data": {
      "text/plain": [
       "'97424 22395'"
      ]
     },
     "execution_count": 4,
     "metadata": {},
     "output_type": "execute_result"
    }
   ],
   "source": [
    " texts[0][0]"
   ]
  },
  {
   "cell_type": "code",
   "execution_count": 5,
   "metadata": {},
   "outputs": [
    {
     "name": "stdout",
     "output_type": "stream",
     "text": [
      "First record of texts, 97424 22395 texts 90365 06212 at time 01-09-2016 06:03:22\n"
     ]
    }
   ],
   "source": [
    "\"\"\"\n",
    "TASK 0:\n",
    "What is the first record of texts and what is the last record of calls?\n",
    "Print messages:\n",
    "\"First record of texts, <incoming number> texts <answering number> at time <time>\"\n",
    "\"Last record of calls, <incoming number> calls <answering number> at time <time>, lasting <during> seconds\"\n",
    "\"\"\"\n",
    "print(\"First record of texts, {} texts {} at time {}\".format(texts[0][0],texts[0][1],texts[0][2]))"
   ]
  },
  {
   "cell_type": "code",
   "execution_count": 9,
   "metadata": {},
   "outputs": [],
   "source": [
    "n = len(calls)-1\n"
   ]
  },
  {
   "cell_type": "code",
   "execution_count": 10,
   "metadata": {
    "scrolled": true
   },
   "outputs": [
    {
     "name": "stdout",
     "output_type": "stream",
     "text": [
      "Last record of calls, 98447 62998 calls (080)46304537 at time 30-09-2016 23:57:15, lasting 2151 seconds\n"
     ]
    }
   ],
   "source": [
    "print(\"Last record of calls, {} calls {} at time {}, lasting {} seconds\".format(calls[n][0],calls[n][1],calls[n][2],calls[n][3]))"
   ]
  },
  {
   "cell_type": "markdown",
   "metadata": {},
   "source": [
    "TASK 1:\n",
    "How many different telephone numbers are there in the records? \n",
    "Print a message:\n",
    "\"There are <count> different telephone numbers in the records.\""
   ]
  },
  {
   "cell_type": "code",
   "execution_count": 17,
   "metadata": {},
   "outputs": [
    {
     "name": "stdout",
     "output_type": "stream",
     "text": [
      "There are 570 different telephone numbers in the records.\n"
     ]
    }
   ],
   "source": [
    "#input: texts list:the first two items in the lists are phone numbers. \n",
    "#calls list: the first two items in the lists are phone numbers.\n",
    "#output: unique count in the records\n",
    "#method: combine all the phone numbers into a list, then make a set of them.\n",
    "\n",
    "phone_book = []\n",
    "for i in range(len(texts)):\n",
    "    phone_book.append(texts[i][0])\n",
    "    phone_book.append(texts[i][1])\n",
    "for i in range(len(calls)):\n",
    "    phone_book.append(calls[i][0])\n",
    "    phone_book.append(calls[i][1])\n",
    "ct_phone_number = len(set(phone_book))\n",
    "print(\"There are {} different telephone numbers in the records.\".format(ct_phone_number))\n"
   ]
  },
  {
   "cell_type": "markdown",
   "metadata": {},
   "source": [
    "TASK 2: Which telephone number spent the longest time on the phone\n",
    "during the period? Don't forget that time spent answering a call is\n",
    "also time spent on the phone.\n",
    "Print a message:\n",
    "\"<telephone number> spent the longest time, <total time> seconds, on the phone during \n",
    "September 2016.\"."
   ]
  },
  {
   "cell_type": "markdown",
   "metadata": {},
   "source": [
    "Input: a call list containing list of records. The first two elements in the list are phone numbers. The last item with 3 as index is the duration.\n",
    "Output: phone number with the longest time and the duration.\n",
    "Method: \n",
    "1. If I'm in SQL, SELECT the incoming phone number, and the duration, Union ALL the answering phone number and the duration. Use where clause to only include calls in September 2016 -- this is from the timestamp column. Using a group by and order by the duration in desc order. Pick the first record.\n",
    "2. How to do this in pandas?\n",
    "3. If not importing pandas - only use python. What would I do?\n",
    "    1. final goal: create a dictionary with phone number: duration\n",
    "    2. steps: \n",
    "        1. check timestamp to make sure its in september\n",
    "        2. get incoming #, if it's not in the list, add incoming #: duration. otherwise, add duration to the original duration. "
   ]
  },
  {
   "cell_type": "code",
   "execution_count": 47,
   "metadata": {},
   "outputs": [
    {
     "name": "stdout",
     "output_type": "stream",
     "text": [
      "(080)33251027 spent the longest time, 90456 seconds, on the phone during September 2016.\n"
     ]
    }
   ],
   "source": [
    "from datetime import datetime\n",
    "phone_dict = {}\n",
    "phone_max = None\n",
    "duration_max = 0\n",
    "start_time = datetime.strptime(\"01-09-2016 00:00:00\",\"%d-%m-%Y %H:%M:%S\")\n",
    "end_time = datetime.strptime(\"01-10-2016 00:00:00\",\"%d-%m-%Y %H:%M:%S\")\n",
    "for i in range(len(calls)):\n",
    "    dt = datetime.strptime(calls[i][2],\"%d-%m-%Y %H:%M:%S\")\n",
    "    if ((dt >= start_time) and (dt < end_time)):\n",
    "        if calls[i][0] not in phone_dict:\n",
    "            phone_dict[calls[i][0]] = int(calls[i][3])\n",
    "        else: \n",
    "            phone_dict[calls[i][0]] += int(calls[i][3])\n",
    "        if duration_max < phone_dict[calls[i][0]]:\n",
    "            duration_max = phone_dict[calls[i][0]]\n",
    "            phone_max = calls[i][0]\n",
    "        if calls[i][1] not in phone_dict:\n",
    "            phone_dict[calls[i][1]] = int(calls[i][3])\n",
    "        else:\n",
    "            phone_dict[calls[i][1]] += int(calls[i][3])\n",
    "        if duration_max < phone_dict[calls[i][1]]:\n",
    "            duration_max = phone_dict[calls[i][1]]\n",
    "            phone_max = calls[i][1]\n",
    "print(\"{} spent the longest time, {} seconds, on the phone during September 2016.\".format(phone_max,duration_max))"
   ]
  },
  {
   "cell_type": "code",
   "execution_count": 22,
   "metadata": {},
   "outputs": [
    {
     "data": {
      "text/plain": [
       "'2093'"
      ]
     },
     "execution_count": 22,
     "metadata": {},
     "output_type": "execute_result"
    }
   ],
   "source": [
    "calls[1][3]"
   ]
  },
  {
   "cell_type": "code",
   "execution_count": 45,
   "metadata": {},
   "outputs": [
    {
     "name": "stdout",
     "output_type": "stream",
     "text": [
      "True\n"
     ]
    }
   ],
   "source": [
    "from datetime import datetime\n",
    "new_time = datetime.strptime(calls[1][2],\"%d-%m-%Y %H:%M:%S\")\n",
    "start_time = datetime.strptime(\"01-09-2016 00:00:00\",\"%d-%m-%Y %H:%M:%S\")\n",
    "end_time = datetime.strptime(\"01-10-2016 00:00:00\",\"%d-%m-%Y %H:%M:%S\")\n",
    "print(start_time < new_time)"
   ]
  },
  {
   "cell_type": "markdown",
   "metadata": {},
   "source": [
    "How should I test this? \n",
    "What is the format of the timestamp? How do I find out?"
   ]
  },
  {
   "cell_type": "markdown",
   "metadata": {},
   "source": [
    "Task 4:\n",
    "The telephone company want to identify numbers that might be doing\n",
    "telephone marketing. Create a set of possible telemarketers:\n",
    "these are numbers that make outgoing calls but never send texts,\n",
    "receive texts or receive incoming calls.\n",
    " 1. Create a set of text numbers and answering calls numbers\n",
    " 2. go through the list\n",
    "\n",
    "Print a message:\n",
    "\"These numbers could be telemarketers: \"\n",
    "<list of numbers>\n",
    "The list of numbers should be print out one per line in lexicographic order with no duplicates. - they need to be sorted. "
   ]
  },
  {
   "cell_type": "code",
   "execution_count": 37,
   "metadata": {
    "scrolled": true
   },
   "outputs": [
    {
     "name": "stdout",
     "output_type": "stream",
     "text": [
      "These numbers could be telemarketers:\n",
      "(022)37572285\n",
      "(022)65548497\n",
      "(022)68535788\n",
      "(022)69042431\n",
      "(040)30429041\n",
      "(044)22020822\n",
      "(0471)2171438\n",
      "(0471)6579079\n",
      "(080)20383942\n",
      "(080)25820765\n",
      "(080)31606520\n",
      "(080)40362016\n",
      "(080)60463379\n",
      "(080)60998034\n",
      "(080)62963633\n",
      "(080)64015211\n",
      "(080)69887826\n",
      "(0821)3257740\n",
      "1400481538\n",
      "1401747654\n",
      "1402316533\n",
      "1403072432\n",
      "1403579926\n",
      "1404073047\n",
      "1404368883\n",
      "1404787681\n",
      "1407539117\n",
      "1408371942\n",
      "1408409918\n",
      "1408672243\n",
      "1409421631\n",
      "1409668775\n",
      "1409994233\n",
      "74064 66270\n",
      "78291 94593\n",
      "87144 55014\n",
      "90351 90193\n",
      "92414 69419\n",
      "94495 03761\n",
      "97404 30456\n",
      "97407 84573\n",
      "97442 45192\n",
      "99617 25274\n"
     ]
    }
   ],
   "source": [
    "people_set = set()\n",
    "call_set = set()\n",
    "telem_list = []\n",
    "for i in range(len(texts)):\n",
    "    people_set.add(texts[i][0])\n",
    "    people_set.add(texts[i][1])\n",
    "for i in range(len(calls)):\n",
    "    people_set.add(calls[i][1])\n",
    "    call_set.add(calls[i][0])\n",
    "for element in call_set:\n",
    "    if element not in people_set:\n",
    "        telem_list.append(element)\n",
    "telem_list.sort()\n",
    "print(\"These numbers could be telemarketers:\")  \n",
    "print(*telem_list, sep = \"\\n\")"
   ]
  },
  {
   "cell_type": "markdown",
   "metadata": {},
   "source": [
    "TASK 3:\n",
    "(080) is the area code for fixed line telephones in Bangalore.\n",
    "Fixed line numbers include parentheses, so Bangalore numbers\n",
    "have the form (080)xxxxxxx.)\n",
    "\n",
    "Part A: Find all of the area codes and mobile prefixes called by people\n",
    "in Bangalore.\n",
    " - Fixed lines start with an area code enclosed in brackets. The area\n",
    "   codes vary in length but always begin with 0.\n",
    " - Mobile numbers have no parentheses, but have a space in the middle\n",
    "   of the number to help readability. The prefix of a mobile number\n",
    "   is its first four digits, and they always start with 7, 8 or 9.\n",
    " - Telemarketers' numbers have no parentheses or space, but they start\n",
    "   with the area code 140.\n",
    "\n",
    "Print the answer as part of a message:\n",
    "\"The numbers called by people in Bangalore have codes:\"\n",
    " <list of codes>\n",
    "The list of codes should be print out one per line in lexicographic order with no duplicates.\n",
    "\n",
    "Part B: What percentage of calls from fixed lines in Bangalore are made\n",
    "to fixed lines also in Bangalore? In other words, of all the calls made\n",
    "from a number starting with \"(080)\", what percentage of these calls\n",
    "were made to a number also starting with \"(080)\"?\n",
    "\n",
    "Print the answer as a part of a message::\n",
    "\"<percentage> percent of calls from fixed lines in Bangalore are calls\n",
    "to other fixed lines in Bangalore.\"\n",
    "The percentage should have 2 decimal digits"
   ]
  },
  {
   "cell_type": "code",
   "execution_count": 68,
   "metadata": {},
   "outputs": [
    {
     "name": "stdout",
     "output_type": "stream",
     "text": [
      "24.81 percent of calls from fixed lines in Bangalore are calls to other fixed lines in Bangalore.\n"
     ]
    }
   ],
   "source": [
    "# PartB:\n",
    "b_call_ct = 0 # Initiate # of calls made by 080\n",
    "b_answer_ct = 0 # Initiate # of calls answered by 080 and made by 080\n",
    "\n",
    "for i in range(len(calls)):\n",
    "    if calls[i][0].startswith(\"(080)\"):\n",
    "        b_call_ct += 1\n",
    "        if calls[i][1].startswith(\"(080)\"):\n",
    "            b_answer_ct += 1\n",
    "            \n",
    "b_answer_percent = round(b_answer_ct/b_call_ct*100,2)\n",
    "\n",
    "print(\"{} percent of calls from fixed lines in Bangalore are calls to other fixed lines in Bangalore.\".format(b_answer_percent))"
   ]
  },
  {
   "cell_type": "code",
   "execution_count": 70,
   "metadata": {},
   "outputs": [
    {
     "name": "stdout",
     "output_type": "stream",
     "text": [
      "The numbers called by people in Bangalore have codes:\n",
      "(022)\n",
      "(040)\n",
      "(04344)\n",
      "(044)\n",
      "(04546)\n",
      "(0471)\n",
      "(080)\n",
      "(0821)\n",
      "7406\n",
      "7795\n",
      "7813\n",
      "7829\n",
      "8151\n",
      "8152\n",
      "8301\n",
      "8431\n",
      "8714\n",
      "9008\n",
      "9019\n",
      "9035\n",
      "9036\n",
      "9241\n",
      "9242\n",
      "9341\n",
      "9342\n",
      "9343\n",
      "9400\n",
      "9448\n",
      "9449\n",
      "9526\n",
      "9656\n",
      "9738\n",
      "9740\n",
      "9741\n",
      "9742\n",
      "9844\n",
      "9845\n",
      "9900\n",
      "9961\n"
     ]
    }
   ],
   "source": [
    "# PartA\n",
    "b_answer_area = set() # Initiate a set of area codes (080) called\n",
    "\n",
    "for i in range(len(calls)):\n",
    "    if not calls[i][0].startswith(\"(080)\"):\n",
    "        continue\n",
    "    if calls[i][1].startswith(\"(\"): \n",
    "        # fixed lines\n",
    "        idx = (calls[i][1].find(\")\"))+1\n",
    "        b_answer_area.add(calls[i][1][:idx])\n",
    "    elif calls[i][1].startswith(\"140\"): \n",
    "        # telemarketer\n",
    "        b_answer_area.add(\"140\")\n",
    "    else: \n",
    "        #mobile\n",
    "        b_answer_area.add(calls[i][1][:4])\n",
    "            \n",
    "b_answer_area_list = list(b_answer_area)\n",
    "b_answer_area_list.sort()\n",
    "\n",
    "print(\"The numbers called by people in Bangalore have codes:\")\n",
    "print(*b_answer_area_list, sep = \"\\n\")"
   ]
  },
  {
   "cell_type": "code",
   "execution_count": 72,
   "metadata": {},
   "outputs": [],
   "source": [
    "l1 = [2, 40, 13, 24, 1, 2, 5, 6, 3, 50, 42]"
   ]
  },
  {
   "cell_type": "code",
   "execution_count": 75,
   "metadata": {},
   "outputs": [],
   "source": [
    "def construct_set1(l):\n",
    "    new_set = set()\n",
    "    for idx, element in enumerate(l):\n",
    "        if element in l[0:idx]:\n",
    "            continue\n",
    "                \n",
    "        new_set.add(element)\n",
    "    return new_set\n",
    "    "
   ]
  },
  {
   "cell_type": "code",
   "execution_count": 76,
   "metadata": {},
   "outputs": [
    {
     "data": {
      "text/plain": [
       "{1, 2, 3, 5, 6, 13, 24, 40, 42, 50}"
      ]
     },
     "execution_count": 76,
     "metadata": {},
     "output_type": "execute_result"
    }
   ],
   "source": [
    "construct_set1(l1)"
   ]
  },
  {
   "cell_type": "code",
   "execution_count": 82,
   "metadata": {},
   "outputs": [],
   "source": [
    "def construct_set2(l):\n",
    "    new_set = set()\n",
    "    l.sort() #O(N*logN)\n",
    "    for idx, element in enumerate(l):\n",
    "        if element == l[idx-1]: # 1\n",
    "        #if binary_search(l[0:idx], element): #log N\n",
    "            continue\n",
    "        \n",
    "        new_set.add(element)\n",
    "    return new_set\n",
    "            "
   ]
  },
  {
   "cell_type": "code",
   "execution_count": 83,
   "metadata": {},
   "outputs": [
    {
     "data": {
      "text/plain": [
       "{1, 2, 3, 5, 6, 13, 24, 40, 42, 50}"
      ]
     },
     "execution_count": 83,
     "metadata": {},
     "output_type": "execute_result"
    }
   ],
   "source": [
    "construct_set2(l1)"
   ]
  },
  {
   "cell_type": "code",
   "execution_count": 84,
   "metadata": {},
   "outputs": [],
   "source": [
    "def construct_set3(l):\n",
    "    new_set = set()\n",
    "    for idx, element in enumerate(l):\n",
    "        if element in new_set: #1\n",
    "            continue\n",
    "        \n",
    "        new_set.add(element) #1\n",
    "    return new_set"
   ]
  },
  {
   "cell_type": "code",
   "execution_count": 85,
   "metadata": {},
   "outputs": [
    {
     "data": {
      "text/plain": [
       "{1, 2, 3, 5, 6, 13, 24, 40, 42, 50}"
      ]
     },
     "execution_count": 85,
     "metadata": {},
     "output_type": "execute_result"
    }
   ],
   "source": [
    "construct_set3(l1)"
   ]
  },
  {
   "cell_type": "code",
   "execution_count": 86,
   "metadata": {},
   "outputs": [
    {
     "data": {
      "text/plain": [
       "{1, 2, 3, 5, 6, 13, 24, 40, 42, 50}"
      ]
     },
     "execution_count": 86,
     "metadata": {},
     "output_type": "execute_result"
    }
   ],
   "source": [
    "def construct_set4(l):\n",
    "    new_set = set()\n",
    "    for idx, element in enumerate(l):\n",
    "        new_set.add(element) #1\n",
    "    return new_set\n",
    "\n",
    "construct_set4(l1)"
   ]
  },
  {
   "cell_type": "code",
   "execution_count": 92,
   "metadata": {},
   "outputs": [],
   "source": [
    "a=[1,2,3]"
   ]
  },
  {
   "cell_type": "code",
   "execution_count": 93,
   "metadata": {},
   "outputs": [
    {
     "data": {
      "text/plain": [
       "[3, 2, 1]"
      ]
     },
     "execution_count": 93,
     "metadata": {},
     "output_type": "execute_result"
    }
   ],
   "source": [
    "a[::-1]"
   ]
  },
  {
   "cell_type": "code",
   "execution_count": 117,
   "metadata": {},
   "outputs": [
    {
     "data": {
      "text/plain": [
       "\"\\nWhy is this wrong? It didn't change the list?\\n    reversed_arr = arr[::-1]\\n    for element in reversed_arr:\\n        if element < 9:\\n            element += 1\\n            break\\n        else:\\n            element = 0\\n            \\n    return reversed_arr[::-1]\\n\""
      ]
     },
     "execution_count": 117,
     "metadata": {},
     "output_type": "execute_result"
    }
   ],
   "source": [
    "def add_one(arr):\n",
    "    \"\"\"\n",
    "    :param: arr - list of digits representing some number x\n",
    "    return a list with digits represengint (x + 1)\n",
    "    \"\"\"\n",
    "    reversed_arr = arr[::-1]\n",
    "    for i in range(len(reversed_arr)):\n",
    "        if reversed_arr[i] < 9:\n",
    "            reversed_arr[i] += 1\n",
    "            break\n",
    "        else:\n",
    "            reversed_arr[i] = 0\n",
    "    if reversed_arr[len(reversed_arr)-1] = 0:\n",
    "        reversed_arr.append(1)\n",
    "            \n",
    "    return reversed_arr[::-1]\n",
    "\n",
    "'''\n",
    "Why is this wrong? It didn't change the list?\n",
    "    reversed_arr = arr[::-1]\n",
    "    for element in reversed_arr:\n",
    "        if element < 9:\n",
    "            element += 1\n",
    "            break\n",
    "        else:\n",
    "            element = 0\n",
    "            \n",
    "    return reversed_arr[::-1]\n",
    "'''"
   ]
  },
  {
   "cell_type": "code",
   "execution_count": 112,
   "metadata": {},
   "outputs": [
    {
     "data": {
      "text/plain": [
       "[1, 2, 4]"
      ]
     },
     "execution_count": 112,
     "metadata": {},
     "output_type": "execute_result"
    }
   ],
   "source": [
    "add_one([1,2,3])"
   ]
  },
  {
   "cell_type": "code",
   "execution_count": 116,
   "metadata": {},
   "outputs": [],
   "source": [
    "arr = [9,9,9]\n",
    "reversed_arr = arr[::-1]"
   ]
  },
  {
   "cell_type": "code",
   "execution_count": 118,
   "metadata": {},
   "outputs": [
    {
     "data": {
      "text/plain": [
       "[9, 9, 9]"
      ]
     },
     "execution_count": 118,
     "metadata": {},
     "output_type": "execute_result"
    }
   ],
   "source": [
    "reversed_arr"
   ]
  },
  {
   "cell_type": "code",
   "execution_count": 115,
   "metadata": {},
   "outputs": [
    {
     "name": "stdout",
     "output_type": "stream",
     "text": [
      "[9, 9, 9]\n"
     ]
    }
   ],
   "source": [
    "for i in range(len(reversed_arr)):\n",
    "    if reversed_arr[i] < 9:\n",
    "        reversed_arr[i] += 1\n",
    "print(reversed_arr)"
   ]
  },
  {
   "cell_type": "code",
   "execution_count": 119,
   "metadata": {},
   "outputs": [
    {
     "ename": "SyntaxError",
     "evalue": "invalid syntax (<ipython-input-119-57e8d75185b2>, line 1)",
     "output_type": "error",
     "traceback": [
      "\u001b[0;36m  File \u001b[0;32m\"<ipython-input-119-57e8d75185b2>\"\u001b[0;36m, line \u001b[0;32m1\u001b[0m\n\u001b[0;31m    for i in range(len(reversed_arr):0:-1):\u001b[0m\n\u001b[0m                                    ^\u001b[0m\n\u001b[0;31mSyntaxError\u001b[0m\u001b[0;31m:\u001b[0m invalid syntax\n"
     ]
    }
   ],
   "source": [
    "for i in range(len(reversed_arr):0:-1):\n",
    "    if reversed_arr[i] < 9:\n",
    "        reversed_arr[i] += 1\n",
    "print(reversed_arr)"
   ]
  },
  {
   "cell_type": "code",
   "execution_count": 140,
   "metadata": {},
   "outputs": [],
   "source": [
    "arr = [1,2,3]"
   ]
  },
  {
   "cell_type": "code",
   "execution_count": 129,
   "metadata": {},
   "outputs": [
    {
     "name": "stdout",
     "output_type": "stream",
     "text": [
      "[1]\n"
     ]
    }
   ],
   "source": [
    "for i in range(len(arr)-1,0,-1):\n",
    "    if arr[i] < 9:\n",
    "        arr[i] += 1\n",
    "        break\n",
    "    else:\n",
    "        arr[i] = 0\n",
    "    \n",
    "    if arr[0] == 0:\n",
    "        arr.insert(0,1)\n",
    "            \n",
    "print(arr)"
   ]
  },
  {
   "cell_type": "code",
   "execution_count": 141,
   "metadata": {},
   "outputs": [
    {
     "name": "stdout",
     "output_type": "stream",
     "text": [
      "2\n",
      "1\n",
      "0\n"
     ]
    }
   ],
   "source": [
    "for i in range(len(arr)-1,-1,-1):\n",
    "    print(i)"
   ]
  },
  {
   "cell_type": "code",
   "execution_count": null,
   "metadata": {},
   "outputs": [],
   "source": [
    "def add_one1(arr):\n",
    "    \"\"\"\n",
    "    :param: arr - list of digits representing some number x\n",
    "    return a list with digits represengint (x + 1)\n",
    "    \"\"\"\n",
    "    for i in range(len(arr)-1,-1,-1):\n",
    "        if arr[i] < 9:\n",
    "            arr[i] += 1\n",
    "            break\n",
    "        else:\n",
    "            arr[i] = 0\n",
    "    \n",
    "    if arr[0] == 0:\n",
    "        arr.insert(0,1)\n",
    "            \n",
    "    return arr\n"
   ]
  },
  {
   "cell_type": "code",
   "execution_count": null,
   "metadata": {},
   "outputs": [],
   "source": [
    "def duplicate_number(arr):\n",
    "    \"\"\"\n",
    "    :param - array containing numbers in the range [0, len(arr) - 2]\n",
    "    return - the number that is duplicate in the arr\n",
    "    \"\"\"\n",
    "    arr.sort()\n",
    "    for i in range(len(arr)):\n",
    "        if arr[i] == arr[i+1]:\n",
    "            break\n",
    "    return arr[i]\n",
    "\n",
    "# is arr.sort() sort in place? Or does it creates additional memory?"
   ]
  }
 ],
 "metadata": {
  "kernelspec": {
   "display_name": "Python 3",
   "language": "python",
   "name": "python3"
  },
  "language_info": {
   "codemirror_mode": {
    "name": "ipython",
    "version": 3
   },
   "file_extension": ".py",
   "mimetype": "text/x-python",
   "name": "python",
   "nbconvert_exporter": "python",
   "pygments_lexer": "ipython3",
   "version": "3.7.1"
  }
 },
 "nbformat": 4,
 "nbformat_minor": 2
}
