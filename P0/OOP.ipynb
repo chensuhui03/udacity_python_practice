{
 "cells": [
  {
   "cell_type": "markdown",
   "metadata": {},
   "source": [
    "Key concepts as noted: 2020-08-08\n",
    "* class Class_name\n",
    "* ```__init__```\n",
    "* function in the class = class methods\n",
    "* instance variable vs. class variable\n",
    "    * self.variable to access, inherits from class variable\n",
    "    * Class_name.variable to access\n",
    "* subclass & inheritance\n",
    "    * ```super().__init__```\n",
    "    * ```isinstance()```\n",
    "    * ```issubclass()```\n",
    "* regular method, class method, and static method\n",
    "    * regular method takes self\n",
    "    * class method takes cls\n",
    "    * static method uses decorator @staticmethod and takes neither self nor cls\n",
    "* dunder ```__repr__``` & ```__str__```\n",
    "    * check library e.g.```str.__add__```, ```int.__add__```\n",
    "* decorator @property\n"
   ]
  },
  {
   "cell_type": "code",
   "execution_count": null,
   "metadata": {},
   "outputs": [],
   "source": []
  }
 ],
 "metadata": {
  "kernelspec": {
   "display_name": "Python 3",
   "language": "python",
   "name": "python3"
  },
  "language_info": {
   "codemirror_mode": {
    "name": "ipython",
    "version": 3
   },
   "file_extension": ".py",
   "mimetype": "text/x-python",
   "name": "python",
   "nbconvert_exporter": "python",
   "pygments_lexer": "ipython3",
   "version": "3.7.1"
  }
 },
 "nbformat": 4,
 "nbformat_minor": 2
}
