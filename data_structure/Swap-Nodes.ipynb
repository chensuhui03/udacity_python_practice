{
 "cells": [
  {
   "cell_type": "markdown",
   "metadata": {
    "graffitiCellId": "id_wwy91p2"
   },
   "source": [
    "## Problem Statement\n",
    "\n",
    "Given a linked list, swap the two nodes present at position `i` and `j`, assuming `0 <= i <= j`. The positions are based on 0-based indexing.\n",
    "\n",
    "**Note:** You have to swap the nodes and not just the values. \n",
    "\n",
    "**Example:**\n",
    "* `linked_list = 3 4 5 2 6 1 9`\n",
    "* `positions = 2 5`\n",
    "* `output = 3 4 1 2 6 5 9`\n",
    "\n",
    "**Explanation:** \n",
    "* The node at position 3 has the value `2`\n",
    "* The node at position 4 has the value `6`\n",
    "* Swapping these nodes will result in a final order of nodes of `3 4 5 6 2 1 9`"
   ]
  },
  {
   "cell_type": "markdown",
   "metadata": {
    "graffitiCellId": "id_lqtx3fk"
   },
   "source": [
    "### Let's take an example to understand a simple approach - \n",
    "Given linked list = [3, 4, 5, 2, 6, 1, 9] <br>\n",
    "position_one = 2<br>\n",
    "position_two = 5<br>\n",
    "**Note the original order of indexes - 0, 1, 2, 3, 4, 5, 6**<br>\n",
    "\n",
    "**Step 1** - Identify the two nodes to be swapped. Also, identify the previous of both the two nodes. \n",
    "**Step 2** - Swap the references making use of a temporary reference\n",
    "**Check the order of the updated indexes as - 0, 1, 5, 3, 4, 2, 6**, which implies that index 2 and index 5 have been swapped. \n"
   ]
  },
  {
   "cell_type": "markdown",
   "metadata": {
    "graffitiCellId": "id_2o4s6ai"
   },
   "source": [
    "### Helper Class"
   ]
  },
  {
   "cell_type": "code",
   "execution_count": 1,
   "metadata": {
    "graffitiCellId": "id_s77kdg7"
   },
   "outputs": [],
   "source": [
    "class Node:\n",
    "    \"\"\"LinkedListNode class to be used for this problem\"\"\"\n",
    "    def __init__(self, data):\n",
    "        self.data = data\n",
    "        self.next = None"
   ]
  },
  {
   "cell_type": "markdown",
   "metadata": {
    "graffitiCellId": "id_ker6u05"
   },
   "source": [
    "### Exercise - Write the function definition here"
   ]
  },
  {
   "cell_type": "code",
   "execution_count": 11,
   "metadata": {
    "graffitiCellId": "id_c4tesrj"
   },
   "outputs": [],
   "source": [
    "\"\"\"\n",
    ":param: head- head of input linked list\n",
    ":param: `position_one` - indicates position (index) ONE\n",
    ":param: `position_two` - indicates position (index) TWO\n",
    "return: head of updated linked list with nodes swapped\n",
    "\n",
    "TODO: complete this function and swap nodes present at position_one and position_two\n",
    "Do not create a new linked list\n",
    "\"\"\"\n",
    "def swap_nodes(head, left_index, right_index):\n",
    "    if head is None:\n",
    "        return head\n",
    "    \n",
    "    if left_index == right_index:\n",
    "        return head\n",
    "        \n",
    "    if right_index - 1 == left_index:\n",
    "        current = head\n",
    "        for _ in range(1,left_index):\n",
    "            current = current.next\n",
    "        if left_index != 0:\n",
    "            left_previous = current\n",
    "            left = current.next\n",
    "            right = left.next\n",
    "            right_next = right.next\n",
    "        \n",
    "            left_previous.next = right\n",
    "            right.next = left\n",
    "            left.next = right_next\n",
    "            \n",
    "        else: \n",
    "            left = current\n",
    "            right = left.next\n",
    "            right_next = right.next\n",
    "            \n",
    "            left.next = right.next\n",
    "            right.next = left\n",
    "            head = right\n",
    "            \n",
    "        return head\n",
    "    \n",
    "    if left_index == 0:\n",
    "        left = head\n",
    "        left_next = head.next\n",
    "        \n",
    "        current = head\n",
    "        for _ in range(1,right_index):\n",
    "            current = current.next\n",
    "            \n",
    "        right_previous = current\n",
    "        right = current.next\n",
    "        right_next = right.next\n",
    "        \n",
    "        left.next = right_next\n",
    "        right_previous.next = left\n",
    "        right.next = left_next\n",
    "        head = right\n",
    "        return head\n",
    "    \n",
    "    current = head\n",
    "    for _ in range(1,left_index):\n",
    "        current = current.next\n",
    "    left_previous = current\n",
    "    left = current.next\n",
    "    left_next = left.next\n",
    "    for _ in range(left_index,right_index):\n",
    "        current = current.next\n",
    "    right_previous = current\n",
    "    right = current.next\n",
    "    right_next = right.next\n",
    "    \n",
    "    left.next = right_next\n",
    "    right_previous.next = left\n",
    "    right.next = left_next\n",
    "    left_previous.next = right\n",
    "    return head"
   ]
  },
  {
   "cell_type": "code",
   "execution_count": 2,
   "metadata": {
    "graffitiCellId": "id_kqbupgc"
   },
   "outputs": [],
   "source": [
    "# Solution\n",
    "\"\"\"\n",
    ":param: head- head of input linked list\n",
    ":param: `position_one` - indicates position (index) ONE\n",
    ":param: `position_two` - indicates position (index) TWO\n",
    "return: head of updated linked list with nodes swapped\n",
    "\"\"\"\n",
    "def swap_nodes(head, position_one, position_two):\n",
    "\n",
    "    # If both the indices are same\n",
    "    if position_one == position_two:\n",
    "        return head\n",
    "    \n",
    "    # Helper references\n",
    "    one_previous = None\n",
    "    one_current = None\n",
    "\n",
    "    two_previous = None\n",
    "    two_current = None\n",
    "\n",
    "    current_index = 0\n",
    "    current_node = head \n",
    "    new_head = None\n",
    "\n",
    "    # LOOP - find out previous and current node at both the positions (indices)\n",
    "    while current_node is not None:\n",
    "        \n",
    "        # Position_one cannot be equal to position_two, \n",
    "        # so either one of them might be equal to the current_index\n",
    "        if current_index == position_one:\n",
    "            one_current = current_node\n",
    "        \n",
    "        elif current_index == position_two:\n",
    "            two_current = current_node\n",
    "            break\n",
    "\n",
    "        # If neither of the position_one or position_two are equal to the current_index\n",
    "        if one_current is None:  \n",
    "            one_previous = current_node #this line gets updated until one_current is found\n",
    "        \n",
    "        two_previous = current_node #this line gets updated until two_current is found\n",
    "        \n",
    "        # increment both the current_index and current_node\n",
    "        current_node = current_node.next         \n",
    "        current_index += 1\n",
    "        \n",
    "\n",
    "    # Loop ends\n",
    "    \n",
    "    \n",
    "    '''SWAPPING LOGIC'''\n",
    "    # We have identified the two nodes: one_current & two_current to be swapped, \n",
    "    # Make use of a temporary reference to swap the references\n",
    "    two_previous.next = one_current\n",
    "    one_next = one_current.next\n",
    "    one_current.next = two_current.next\n",
    "    two_current.next = one_next\n",
    "    \n",
    "    # if the node at first index is head of the original linked list\n",
    "    if one_previous is None:\n",
    "        new_head = two_current\n",
    "    else:\n",
    "        one_previous.next = two_current\n",
    "        new_head = head\n",
    "    # Swapping logic ends\n",
    "    \n",
    "    return new_head"
   ]
  },
  {
   "cell_type": "markdown",
   "metadata": {
    "graffitiCellId": "id_j94rzl9"
   },
   "source": [
    "### Test - Let's test your function"
   ]
  },
  {
   "cell_type": "code",
   "execution_count": 3,
   "metadata": {
    "graffitiCellId": "id_lzqbwc8"
   },
   "outputs": [],
   "source": [
    "def test_function(test_case):\n",
    "    head = test_case[0]\n",
    "    left_index = test_case[1]\n",
    "    right_index = test_case[2]\n",
    "    \n",
    "    left_node = None\n",
    "    right_node = None\n",
    "    \n",
    "    temp = head\n",
    "    index = 0\n",
    "    try:\n",
    "        while temp is not None:\n",
    "            if index == left_index:\n",
    "                left_node = temp\n",
    "            if index == right_index:\n",
    "                right_node = temp\n",
    "                break\n",
    "            index += 1\n",
    "            temp = temp.next\n",
    "\n",
    "        updated_head = swap_nodes(head, left_index, right_index)\n",
    "\n",
    "        temp = updated_head\n",
    "        index = 0\n",
    "        pass_status = [False, False]\n",
    "\n",
    "        while temp is not None:\n",
    "            if index == left_index:\n",
    "                pass_status[0] = temp is right_node\n",
    "            if index == right_index:\n",
    "                pass_status[1] = temp is left_node\n",
    "\n",
    "            index += 1\n",
    "            temp = temp.next\n",
    "\n",
    "        if pass_status[0] and pass_status[1]:\n",
    "            print(\"Pass\")\n",
    "        else:\n",
    "            print(\"Fail\")\n",
    "        return updated_head\n",
    "    except Exception as e:\n",
    "        print(\"Fail\")"
   ]
  },
  {
   "cell_type": "code",
   "execution_count": 5,
   "metadata": {
    "graffitiCellId": "id_dmn7hpj"
   },
   "outputs": [],
   "source": [
    "# helper functions for testing purpose\n",
    "def create_linked_list(arr):\n",
    "    if len(arr)==0:\n",
    "        return None\n",
    "    head = Node(arr[0])\n",
    "    tail = head\n",
    "    for data in arr[1:]:\n",
    "        tail.next = Node(data)\n",
    "        tail = tail.next\n",
    "    return head\n",
    "\n",
    "def print_linked_list(head):\n",
    "    while head:\n",
    "        print(head.data, end=\" \")\n",
    "        head = head.next\n",
    "    print()"
   ]
  },
  {
   "cell_type": "code",
   "execution_count": 8,
   "metadata": {
    "graffitiCellId": "id_vf3gh3b"
   },
   "outputs": [
    {
     "name": "stdout",
     "output_type": "stream",
     "text": [
      "Pass\n"
     ]
    }
   ],
   "source": [
    "arr = [3, 4, 5, 2, 6, 1, 9]\n",
    "head = create_linked_list(arr)\n",
    "left_index = 3\n",
    "right_index = 4\n",
    "\n",
    "test_case = [head, left_index, right_index]\n",
    "updated_head = test_function(test_case)"
   ]
  },
  {
   "cell_type": "code",
   "execution_count": 9,
   "metadata": {
    "graffitiCellId": "id_hmw9ljb"
   },
   "outputs": [
    {
     "name": "stdout",
     "output_type": "stream",
     "text": [
      "Pass\n"
     ]
    }
   ],
   "source": [
    "arr = [3, 4, 5, 2, 6, 1, 9]\n",
    "left_index = 2 \n",
    "right_index = 4\n",
    "head = create_linked_list(arr)\n",
    "test_case = [head, left_index, right_index]\n",
    "updated_head = test_function(test_case)"
   ]
  },
  {
   "cell_type": "code",
   "execution_count": 10,
   "metadata": {
    "graffitiCellId": "id_vekfhar"
   },
   "outputs": [
    {
     "name": "stdout",
     "output_type": "stream",
     "text": [
      "Pass\n"
     ]
    }
   ],
   "source": [
    "arr = [3, 4, 5, 2, 6, 1, 9]\n",
    "left_index = 0\n",
    "right_index = 1\n",
    "head = create_linked_list(arr)\n",
    "test_case = [head, left_index, right_index]\n",
    "updated_head = test_function(test_case)"
   ]
  },
  {
   "cell_type": "code",
   "execution_count": 11,
   "metadata": {
    "graffitiCellId": "id_hcvtcmy"
   },
   "outputs": [
    {
     "data": {
      "text/plain": [
       "3"
      ]
     },
     "execution_count": 11,
     "metadata": {},
     "output_type": "execute_result"
    }
   ],
   "source": [
    "int('3')"
   ]
  },
  {
   "cell_type": "code",
   "execution_count": 12,
   "metadata": {},
   "outputs": [
    {
     "ename": "ValueError",
     "evalue": "invalid literal for int() with base 10: '+'",
     "output_type": "error",
     "traceback": [
      "\u001b[0;31m---------------------------------------------------------------------------\u001b[0m",
      "\u001b[0;31mValueError\u001b[0m                                Traceback (most recent call last)",
      "\u001b[0;32m<ipython-input-12-1184a829ae2d>\u001b[0m in \u001b[0;36m<module>\u001b[0;34m\u001b[0m\n\u001b[0;32m----> 1\u001b[0;31m \u001b[0mint\u001b[0m\u001b[0;34m(\u001b[0m\u001b[0;34m'+'\u001b[0m\u001b[0;34m)\u001b[0m\u001b[0;34m\u001b[0m\u001b[0;34m\u001b[0m\u001b[0m\n\u001b[0m",
      "\u001b[0;31mValueError\u001b[0m: invalid literal for int() with base 10: '+'"
     ]
    }
   ],
   "source": [
    "int('+')"
   ]
  },
  {
   "cell_type": "code",
   "execution_count": 57,
   "metadata": {},
   "outputs": [],
   "source": [
    "class Student:\n",
    "    def __init__(self, name, id_num, l1):\n",
    "        self.name = name\n",
    "        self.id_num = id_num\n",
    "        self.classes = l1\n",
    "    def __repr__(self):\n",
    "        #print(\"name: {}, id: {}, classes: {}\".format(self.name, self.id_num, self.classes))\n",
    "        return str(\"name: {}, id: {}, classes: {}\".format(self.name, self.id_num, self.classes))\n",
    "    \n",
    "    #def is_equal(self, new):\n",
    "    #    return self.name == new.name and self.id_num == new.id_num"
   ]
  },
  {
   "cell_type": "code",
   "execution_count": 58,
   "metadata": {},
   "outputs": [],
   "source": [
    "t = Student('tt', 20, ['a','b'])"
   ]
  },
  {
   "cell_type": "code",
   "execution_count": 59,
   "metadata": {},
   "outputs": [],
   "source": [
    "student_set = set()"
   ]
  },
  {
   "cell_type": "code",
   "execution_count": 60,
   "metadata": {},
   "outputs": [
    {
     "data": {
      "text/plain": [
       "name: tt, id: 20, classes: ['a', 'b', 'c']"
      ]
     },
     "execution_count": 60,
     "metadata": {},
     "output_type": "execute_result"
    }
   ],
   "source": [
    "student_set.add(t)\n",
    "t.classes.append('c')\n",
    "t"
   ]
  },
  {
   "cell_type": "code",
   "execution_count": 67,
   "metadata": {},
   "outputs": [
    {
     "name": "stdout",
     "output_type": "stream",
     "text": [
      "3\n",
      "name: tt, id: 20, classes: ['a', 'b', 'c']\n",
      "t hash is: -9223372036575559494, id is: 4467461032\n",
      "not in cache\n",
      "False\n"
     ]
    }
   ],
   "source": [
    "t2 = Student('tt', 20, ['a','b','c'])\n",
    "l_s = [Student('tt', 20, ['a','b','c']), Student('tt', 20, ['a','b','c']), Student('csh', 20, ['a','b','c'])]\n",
    "l_s_set = set(l_s)\n",
    "print(len(l_s_set))\n",
    "print(t2)\n",
    "print(\"t hash is: {}, id is: {}\".format(hash(t), id(t)))\n",
    "if t2 in student_set:\n",
    "    print(\"found in cache\")\n",
    "else:\n",
    "    print(\"not in cache\")\n",
    "print(hash(t) == id(t)/16)"
   ]
  },
  {
   "cell_type": "code",
   "execution_count": 30,
   "metadata": {},
   "outputs": [
    {
     "data": {
      "text/plain": [
       "1"
      ]
     },
     "execution_count": 30,
     "metadata": {},
     "output_type": "execute_result"
    }
   ],
   "source": [
    "len(student_set)"
   ]
  },
  {
   "cell_type": "code",
   "execution_count": 43,
   "metadata": {},
   "outputs": [],
   "source": [
    "c = Student('sc', 34, ['a','b'])"
   ]
  },
  {
   "cell_type": "code",
   "execution_count": 32,
   "metadata": {},
   "outputs": [],
   "source": [
    "student_set.add(c)"
   ]
  },
  {
   "cell_type": "code",
   "execution_count": 33,
   "metadata": {},
   "outputs": [
    {
     "name": "stdout",
     "output_type": "stream",
     "text": [
      "{<__main__.Student object at 0x10a3e2390>, <__main__.Student object at 0x10a3e2f98>}\n"
     ]
    }
   ],
   "source": [
    "print(student_set)"
   ]
  },
  {
   "cell_type": "code",
   "execution_count": 70,
   "metadata": {},
   "outputs": [
    {
     "ename": "TypeError",
     "evalue": "hash() takes exactly one argument (2 given)",
     "output_type": "error",
     "traceback": [
      "\u001b[0;31m---------------------------------------------------------------------------\u001b[0m",
      "\u001b[0;31mTypeError\u001b[0m                                 Traceback (most recent call last)",
      "\u001b[0;32m<ipython-input-70-390c6d3dcbe0>\u001b[0m in \u001b[0;36m<module>\u001b[0;34m\u001b[0m\n\u001b[0;32m----> 1\u001b[0;31m \u001b[0mhash\u001b[0m\u001b[0;34m(\u001b[0m\u001b[0;34m\"abcd\"\u001b[0m\u001b[0;34m,\u001b[0m \u001b[0;36m1\u001b[0m\u001b[0;34m)\u001b[0m\u001b[0;34m\u001b[0m\u001b[0;34m\u001b[0m\u001b[0m\n\u001b[0m",
      "\u001b[0;31mTypeError\u001b[0m: hash() takes exactly one argument (2 given)"
     ]
    }
   ],
   "source": [
    "hash(\"abcd\")"
   ]
  },
  {
   "cell_type": "code",
   "execution_count": null,
   "metadata": {},
   "outputs": [],
   "source": []
  }
 ],
 "metadata": {
  "graffiti": {
   "firstAuthorId": "dev",
   "id": "id_cuns29g",
   "language": "EN"
  },
  "kernelspec": {
   "display_name": "Python 3",
   "language": "python",
   "name": "python3"
  },
  "language_info": {
   "codemirror_mode": {
    "name": "ipython",
    "version": 3
   },
   "file_extension": ".py",
   "mimetype": "text/x-python",
   "name": "python",
   "nbconvert_exporter": "python",
   "pygments_lexer": "ipython3",
   "version": "3.7.1"
  }
 },
 "nbformat": 4,
 "nbformat_minor": 2
}
