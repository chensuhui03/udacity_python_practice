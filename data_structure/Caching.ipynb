{
 "cells": [
  {
   "cell_type": "markdown",
   "metadata": {
    "graffitiCellId": "id_2z4498k"
   },
   "source": [
    "### What is Caching?"
   ]
  },
  {
   "cell_type": "markdown",
   "metadata": {
    "graffitiCellId": "id_5why725"
   },
   "source": [
    "Caching can be defined as the process of storing data into a temporary data storage to avoid recomputation or to avoid reading the data from a relatively slower part of memory again and again. Thus cachig serves as a fast \"look-up\" storage allowing programs to execute faster.  \n",
    "\n",
    "*Let's use caching to chalk out an efficient solution for **a problem from the Recursion lesson**.*"
   ]
  },
  {
   "cell_type": "markdown",
   "metadata": {
    "graffitiCellId": "id_shkaqhm"
   },
   "source": [
    "### Problem Statement - (Recursion) - Repeat Exercise \n",
    "\n",
    "A child is running up a staircase and can hop either 1 step, 2 steps or 3 steps at a time. \n",
    "Given that the staircase has a total `n` steps, write a function to count the number of possible ways in which child can run up the stairs. \n",
    "\n",
    "For e.g. \n",
    "\n",
    "* `n == 1` then `answer = 1`\n",
    "\n",
    "* `n == 3` then `answer = 4`<br>\n",
    "   The output is `4` because there are four ways we can climb the staircase:\n",
    "    - 1 step +  1 step + 1 step\n",
    "    - 1 step + 2 steps \n",
    "    - 2 steps + 1 step\n",
    "    - 3 steps\n",
    " \n",
    "* `n == 5` then `answer = 13`\n",
    "\n",
    "**Hint**<br>\n",
    "You would need to make use of the [Inductive Hypothesis](https://en.wikipedia.org/wiki/Mathematical_induction#Description), which comprises of the following two steps:\n",
    "1. **The Inductive Hypothesis**: Calculate/assume the results for base case. In our problem scenario, the base cases would be when n = 1, 2, and 3. \n",
    "\n",
    "\n",
    "2. **The Inductive Step**: Prove that for every $n >= 3$, if the results are true for $n$ , then it holds for $(n+1)$ as well. In other words, assume that the statement holds for some arbitrary natural number $n$ , and prove that the statement holds for $(n+1)$.\n",
    "\n"
   ]
  },
  {
   "cell_type": "code",
   "execution_count": 1,
   "metadata": {
    "graffitiCellId": "id_qlyd2h9"
   },
   "outputs": [],
   "source": [
    "def staircase(n):\n",
    "    # Base Case - What holds true for minimum steps possible i.e., n == 1? Return the number of ways the child can climb one step.\n",
    "    if n == 1:\n",
    "        return 1\n",
    "    # Inductive Hypothesis - What holds true for n == 2 or n == 3? Return the number of ways to climb them.\n",
    "    elif n == 2:\n",
    "        return 2\n",
    "    elif n == 3:\n",
    "        return 4\n",
    "    # Inductive Step (n > 3) - use Inductive Hypothesis to formulate a solutio\n",
    "    return staircase(n-1)+staircase(n-2)+staircase(n-3)\n",
    "\n"
   ]
  },
  {
   "cell_type": "code",
   "execution_count": 2,
   "metadata": {
    "graffitiCellId": "id_mhzqy0u"
   },
   "outputs": [],
   "source": [
    "def test_function(test_case):\n",
    "    answer = staircase(test_case[0])\n",
    "    if answer == test_case[1]:\n",
    "        print(\"Pass\")\n",
    "    else:\n",
    "        print(\"Fail\")\n",
    "            "
   ]
  },
  {
   "cell_type": "code",
   "execution_count": 3,
   "metadata": {
    "graffitiCellId": "id_vgacxhw"
   },
   "outputs": [
    {
     "name": "stdout",
     "output_type": "stream",
     "text": [
      "Pass\n"
     ]
    }
   ],
   "source": [
    "test_case = [4, 7]\n",
    "test_function(test_case)"
   ]
  },
  {
   "cell_type": "code",
   "execution_count": 4,
   "metadata": {
    "graffitiCellId": "id_vgt831v"
   },
   "outputs": [
    {
     "name": "stdout",
     "output_type": "stream",
     "text": [
      "Pass\n"
     ]
    }
   ],
   "source": [
    "test_case = [5, 13]\n",
    "test_function(test_case)"
   ]
  },
  {
   "cell_type": "code",
   "execution_count": 5,
   "metadata": {
    "graffitiCellId": "id_335kkgn"
   },
   "outputs": [
    {
     "name": "stdout",
     "output_type": "stream",
     "text": [
      "Pass\n"
     ]
    }
   ],
   "source": [
    "test_case = [3, 4]\n",
    "test_function(test_case)"
   ]
  },
  {
   "cell_type": "code",
   "execution_count": 6,
   "metadata": {
    "graffitiCellId": "id_j49hev8"
   },
   "outputs": [
    {
     "name": "stdout",
     "output_type": "stream",
     "text": [
      "Pass\n"
     ]
    }
   ],
   "source": [
    "test_case = [20, 121415]\n",
    "test_function(test_case)"
   ]
  },
  {
   "cell_type": "markdown",
   "metadata": {
    "graffitiCellId": "id_r189hz6"
   },
   "source": [
    "<span class=\"graffiti-highlight graffiti-id_r189hz6-id_vtju73f\"><i></i><button>Show Solution</button></span>"
   ]
  },
  {
   "cell_type": "markdown",
   "metadata": {
    "graffitiCellId": "id_cfownii"
   },
   "source": [
    "### Problem Statement - (Caching)\n",
    "\n",
    "While using recursion for the above problem, you might have noticed a small problem with efficiency.\n",
    "\n",
    "Let's take a look at an example.\n",
    "\n",
    "* Say the total number of steps are `5`. This means that we will have to call at `(n=4), (n=3), and (n=2)`\n",
    "\n",
    "* To calculate the answer for `n=4`, we would have to call `(n=3), (n=2) and (n=1)`\n",
    "\n",
    "You can notice that even for a small number of staircases (here 5), we are calling `n=3` and `n=2` multiple times. Each time we call a method, additional time is required to calculate the solution. In contrast, instead of calling on a particular value of `n` again and again, we can **calculate it once and store the result** to speed up our program.\n",
    "\n",
    ">Which data structure are you thinking to store the results?\n",
    "\n",
    "Your job is to use any data-structure that you have used until now to write a faster implementation of the function you wrote earlier while using recursion. \n"
   ]
  },
  {
   "cell_type": "code",
   "execution_count": 30,
   "metadata": {
    "graffitiCellId": "id_uw8ttpq"
   },
   "outputs": [
    {
     "data": {
      "text/plain": [
       "121415"
      ]
     },
     "execution_count": 30,
     "metadata": {},
     "output_type": "execute_result"
    }
   ],
   "source": [
    "def staircase1(n):\n",
    "    stair = dict()\n",
    "    return climb_stair(n,stair)\n",
    "\n",
    "def climb_stair(n,stair):\n",
    "\n",
    "    if n == 1:\n",
    "        method = 1\n",
    "    elif n == 2:\n",
    "        method = 2\n",
    "    elif n == 3:\n",
    "        method = 4\n",
    "    elif n in stair:\n",
    "        method = stair[n]\n",
    "    else:\n",
    "        if n-1 in stair:\n",
    "            first = stair[n-1]\n",
    "        else:\n",
    "            first = climb_stair(n-1,stair)\n",
    "        if n-2 in stair:\n",
    "            second = stair[n-2]\n",
    "        else:\n",
    "            second = climb_stair(n-2,stair)\n",
    "        if n-3 in stair:\n",
    "            third = stair[n-3]\n",
    "        else:\n",
    "            third = climb_stair(n-3,stair)\n",
    "        method = first+second+third\n",
    "        stair[n] = method\n",
    "    return method\n",
    "\n",
    "staircase1(20)"
   ]
  },
  {
   "cell_type": "code",
   "execution_count": 8,
   "metadata": {
    "graffitiCellId": "id_zcrgimd"
   },
   "outputs": [
    {
     "name": "stdout",
     "output_type": "stream",
     "text": [
      "Pass\n"
     ]
    }
   ],
   "source": [
    "test_case = [4, 7]\n",
    "test_function(test_case)"
   ]
  },
  {
   "cell_type": "code",
   "execution_count": 9,
   "metadata": {
    "graffitiCellId": "id_01zs3l1"
   },
   "outputs": [
    {
     "name": "stdout",
     "output_type": "stream",
     "text": [
      "Pass\n"
     ]
    }
   ],
   "source": [
    "test_case = [5, 13]\n",
    "test_function(test_case)"
   ]
  },
  {
   "cell_type": "code",
   "execution_count": 10,
   "metadata": {
    "graffitiCellId": "id_letl51a"
   },
   "outputs": [
    {
     "name": "stdout",
     "output_type": "stream",
     "text": [
      "Pass\n"
     ]
    }
   ],
   "source": [
    "test_case = [3, 4]\n",
    "test_function(test_case)"
   ]
  },
  {
   "cell_type": "code",
   "execution_count": 11,
   "metadata": {
    "graffitiCellId": "id_eeu996q"
   },
   "outputs": [
    {
     "name": "stdout",
     "output_type": "stream",
     "text": [
      "Pass\n"
     ]
    }
   ],
   "source": [
    "test_case = [20, 121415]\n",
    "test_function(test_case)"
   ]
  },
  {
   "cell_type": "code",
   "execution_count": 12,
   "metadata": {
    "graffitiCellId": "id_y6c0eu0"
   },
   "outputs": [
    {
     "data": {
      "text/plain": [
       "24"
      ]
     },
     "execution_count": 12,
     "metadata": {},
     "output_type": "execute_result"
    }
   ],
   "source": [
    "staircase1(6)"
   ]
  },
  {
   "cell_type": "markdown",
   "metadata": {
    "graffitiCellId": "id_0n79ls8"
   },
   "source": [
    "<span class=\"graffiti-highlight graffiti-id_0n79ls8-id_6t02ke7\"><i></i><button>Hide Solution</button></span>"
   ]
  },
  {
   "cell_type": "code",
   "execution_count": 13,
   "metadata": {
    "graffitiCellId": "id_6t02ke7"
   },
   "outputs": [],
   "source": [
    "def staircase2(n):\n",
    "    \n",
    "    # start with a blank dictionary. It will populate in the recursive call\n",
    "    num_dict = dict({})           \n",
    "    return staircase_faster(n, num_dict)\n",
    "\n",
    "\n",
    "'''Recursice function'''\n",
    "def staircase_faster(n, num_dict):\n",
    "    ''' \n",
    "    Here `n` is a key and `output` would be the corresponding value \n",
    "    to be inserted into the dictionary as a pair\n",
    "    '''\n",
    "    \n",
    "    # Base cases\n",
    "    if n == 1:\n",
    "        output = 1\n",
    "    elif n == 2:\n",
    "        output = 2\n",
    "    elif n == 3:\n",
    "        output = 4\n",
    "    else:\n",
    "        \n",
    "        # Simply check if the \"value\" corresponding to \"(n-1)\" key is already available in the dictionary\n",
    "        if (n - 1) in num_dict:\n",
    "            first_output = num_dict[n - 1]\n",
    "\n",
    "        # Otherwise, calculate and insert the new key-value pair into the dictioanry\n",
    "        else:\n",
    "            first_output =  staircase_faster(n - 1, num_dict)\n",
    "        \n",
    "        if (n - 2) in num_dict:\n",
    "            second_output = num_dict[n - 2]\n",
    "        else:\n",
    "            second_output = staircase_faster(n - 2, num_dict)\n",
    "            \n",
    "        if (n - 3) in num_dict:\n",
    "            third_output = num_dict[n - 3]\n",
    "        else:\n",
    "            third_output = staircase_faster(n - 3, num_dict)\n",
    "        \n",
    "        output = first_output + second_output + third_output\n",
    "    \n",
    "    num_dict[n] = output;   # insert a key-value pair in the ORIGINAL dictionary \n",
    "    return output\n",
    "\n",
    "staircase2(20)\n"
   ]
  },
  {
   "cell_type": "code",
   "execution_count": 14,
   "metadata": {
    "graffitiCellId": "id_121ngzm"
   },
   "outputs": [],
   "source": [
    "import time\n"
   ]
  },
  {
   "cell_type": "code",
   "execution_count": 23,
   "metadata": {
    "graffitiCellId": "id_sos51lg"
   },
   "outputs": [
    {
     "name": "stdout",
     "output_type": "stream",
     "text": [
      "--- 9.226799011230469e-05 seconds ---\n"
     ]
    }
   ],
   "source": [
    "start_time = time.time()\n",
    "staircase2(20)\n",
    "print(\"--- %s seconds ---\" % (time.time() - start_time))"
   ]
  },
  {
   "cell_type": "code",
   "execution_count": 24,
   "metadata": {
    "graffitiCellId": "id_6w4qa4p"
   },
   "outputs": [
    {
     "name": "stdout",
     "output_type": "stream",
     "text": [
      "--- 0.00010395050048828125 seconds ---\n"
     ]
    }
   ],
   "source": [
    "start_time = time.time()\n",
    "staircase1(20)\n",
    "print(\"--- %s seconds ---\" % (time.time() - start_time))"
   ]
  },
  {
   "cell_type": "code",
   "execution_count": 22,
   "metadata": {
    "graffitiCellId": "id_tsl5kym"
   },
   "outputs": [
    {
     "name": "stdout",
     "output_type": "stream",
     "text": [
      "--- 0.016635894775390625 seconds ---\n"
     ]
    }
   ],
   "source": [
    "start_time = time.time()\n",
    "staircase(20)\n",
    "print(\"--- %s seconds ---\" % (time.time() - start_time))"
   ]
  },
  {
   "cell_type": "code",
   "execution_count": 26,
   "metadata": {
    "graffitiCellId": "id_dqbjzv0"
   },
   "outputs": [],
   "source": [
    "import timeit"
   ]
  },
  {
   "cell_type": "code",
   "execution_count": 32,
   "metadata": {},
   "outputs": [
    {
     "name": "stdout",
     "output_type": "stream",
     "text": [
      "1.6556407550000358\n"
     ]
    }
   ],
   "source": [
    "#original method\n",
    "print(timeit.timeit('''def staircase1(n):\n",
    "    stair = dict()\n",
    "    return climb_stair(n,stair)\n",
    "\n",
    "def climb_stair(n,stair):\n",
    "\n",
    "    if n == 1:\n",
    "        method = 1\n",
    "    elif n == 2:\n",
    "        method = 2\n",
    "    elif n == 3:\n",
    "        method = 4\n",
    "    elif n in stair:\n",
    "        method = stair[n]\n",
    "    else:\n",
    "        if n-1 in stair:\n",
    "            method = stair[n-1]+stair[n-2]+stair[n-3]\n",
    "        elif n-2 in stair:\n",
    "            method = climb_stair(n-1,stair)+stair[n-2]+stair[n-3]\n",
    "        elif n-3 in stair:\n",
    "            method = climb_stair(n-1,stair)+climb_stair(n-2,stair)+stair[n-3]\n",
    "        else:\n",
    "            method = climb_stair(n-1,stair)+climb_stair(n-2,stair)+climb_stair(n-3,stair)\n",
    "        stair[n] = method\n",
    "    return method\n",
    "\n",
    "staircase1(20)''',number = 100000))"
   ]
  },
  {
   "cell_type": "code",
   "execution_count": 31,
   "metadata": {},
   "outputs": [
    {
     "name": "stdout",
     "output_type": "stream",
     "text": [
      "1.0587403920000042\n"
     ]
    }
   ],
   "source": [
    "print(timeit.timeit('''def staircase1(n):\n",
    "    stair = dict()\n",
    "    return climb_stair(n,stair)\n",
    "\n",
    "def climb_stair(n,stair):\n",
    "\n",
    "    if n == 1:\n",
    "        method = 1\n",
    "    elif n == 2:\n",
    "        method = 2\n",
    "    elif n == 3:\n",
    "        method = 4\n",
    "    elif n in stair:\n",
    "        method = stair[n]\n",
    "    else:\n",
    "        if n-1 in stair:\n",
    "            first = stair[n-1]\n",
    "        else:\n",
    "            first = climb_stair(n-1,stair)\n",
    "        if n-2 in stair:\n",
    "            second = stair[n-2]\n",
    "        else:\n",
    "            second = climb_stair(n-2,stair)\n",
    "        if n-3 in stair:\n",
    "            third = stair[n-3]\n",
    "        else:\n",
    "            third = climb_stair(n-3,stair)\n",
    "        method = first+second+third\n",
    "        stair[n] = method\n",
    "    return method\n",
    "\n",
    "staircase1(20)\n",
    "''',number = 100000))"
   ]
  },
  {
   "cell_type": "code",
   "execution_count": null,
   "metadata": {},
   "outputs": [],
   "source": []
  }
 ],
 "metadata": {
  "graffiti": {
   "firstAuthorId": "10694620118",
   "id": "id_dfjao7b",
   "language": "EN"
  },
  "kernelspec": {
   "display_name": "Python 3",
   "language": "python",
   "name": "python3"
  },
  "language_info": {
   "codemirror_mode": {
    "name": "ipython",
    "version": 3
   },
   "file_extension": ".py",
   "mimetype": "text/x-python",
   "name": "python",
   "nbconvert_exporter": "python",
   "pygments_lexer": "ipython3",
   "version": "3.7.1"
  }
 },
 "nbformat": 4,
 "nbformat_minor": 2
}
