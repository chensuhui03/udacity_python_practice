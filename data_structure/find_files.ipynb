{
 "cells": [
  {
   "cell_type": "code",
   "execution_count": 26,
   "metadata": {},
   "outputs": [
    {
     "name": "stdout",
     "output_type": "stream",
     "text": [
      "['subdir4', 'subdir3', 't1.c', 'subdir2', 'subdir5', 't1.h', 'subdir1']\n",
      "True\n"
     ]
    }
   ],
   "source": [
    "## Locally save and call this file ex.py ##\n",
    "\n",
    "# Code to demonstrate the use of some of the OS modules in python\n",
    "\n",
    "import os\n",
    "\n",
    "# Let us print the files in the directory in which you are running this script\n",
    "children = os.listdir(\"./P1/testdir\")\n",
    "print (os.listdir(\"./P1/testdir\"))\n",
    "\n",
    "print(os.path.isdir(\"./P1/testdir\"))\n",
    "# Let us check if this file is indeed a file!\n",
    "#for child in children:\n",
    "    #print (child, os.path.isfile(child))\n",
    "    #print(child, child.endswith(\".c\"))\n",
    "    #print(child, os.path.isdir(child))\n",
    "\n",
    "# Does the file end with .py?\n",
    "#print (\"./ex.py\".endswith(\".py\"))"
   ]
  },
  {
   "cell_type": "code",
   "execution_count": 35,
   "metadata": {},
   "outputs": [],
   "source": [
    "def find_files(suffix, path):\n",
    "    \"\"\"\n",
    "    Find all files beneath path with file name suffix.\n",
    "\n",
    "    Note that a path may contain further subdirectories\n",
    "    and those subdirectories may also contain further subdirectories.\n",
    "\n",
    "    There are no limit to the depth of the subdirectories can be.\n",
    "\n",
    "    Args:\n",
    "      suffix(str): suffix if the file name to be found\n",
    "      path(str): path of the file system\n",
    "\n",
    "    Returns:\n",
    "       a list of paths\n",
    "    \"\"\"    \n",
    "    path_list = []\n",
    "    \n",
    "    return _find_files(suffix, path, path_list)\n",
    "\n",
    "def _find_files(suffix, path, path_list):\n",
    "\n",
    "    # find all the files and directory under the current *path*\n",
    "    sub = os.listdir(path)\n",
    "    # append path of the files end with suffix to the path list\n",
    "    for element in sub:\n",
    "        element_path = os.path.join(path,element)\n",
    "        if element_path.endswith(suffix):\n",
    "            path_list.append(element_path)\n",
    "        elif os.path.isdir(element_path):\n",
    "            _find_files(suffix, element_path,path_list)\n",
    "    \n",
    "    return path_list"
   ]
  },
  {
   "cell_type": "code",
   "execution_count": 37,
   "metadata": {},
   "outputs": [
    {
     "name": "stdout",
     "output_type": "stream",
     "text": [
      "['./P1/testdir/subdir3/subsubdir1/b.c', './P1/testdir/t1.c', './P1/testdir/subdir5/a.c', './P1/testdir/subdir1/a.c']\n"
     ]
    }
   ],
   "source": [
    "path = \"./P1/testdir\"\n",
    "suffix = \".c\"\n",
    "print(find_files(suffix, path))"
   ]
  },
  {
   "cell_type": "code",
   "execution_count": null,
   "metadata": {},
   "outputs": [],
   "source": []
  },
  {
   "cell_type": "code",
   "execution_count": null,
   "metadata": {},
   "outputs": [],
   "source": []
  }
 ],
 "metadata": {
  "kernelspec": {
   "display_name": "Python 3",
   "language": "python",
   "name": "python3"
  },
  "language_info": {
   "codemirror_mode": {
    "name": "ipython",
    "version": 3
   },
   "file_extension": ".py",
   "mimetype": "text/x-python",
   "name": "python",
   "nbconvert_exporter": "python",
   "pygments_lexer": "ipython3",
   "version": "3.7.1"
  }
 },
 "nbformat": 4,
 "nbformat_minor": 2
}
