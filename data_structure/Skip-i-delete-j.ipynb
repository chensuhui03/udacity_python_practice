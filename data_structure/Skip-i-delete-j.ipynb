{
 "cells": [
  {
   "cell_type": "markdown",
   "metadata": {
    "graffitiCellId": "id_0qbquwe"
   },
   "source": [
    "### Problem Statement\n",
    "\n",
    "You are given the head of a linked list and two integers, `i` and `j`.\n",
    "You have to retain the first `i` nodes and then delete the next `j` nodes. Continue doing so until the end of the linked list. \n",
    "\n",
    "**Example:**\n",
    "* `linked-list = 1 2 3 4 5 6 7 8 9 10 11 12`\n",
    "* `i = 2`\n",
    "* `j = 3` \n",
    "* `Output = 1 2 6 7 11 12` \n"
   ]
  },
  {
   "cell_type": "code",
   "execution_count": 6,
   "metadata": {
    "graffitiCellId": "id_x5k7r8o"
   },
   "outputs": [],
   "source": [
    "# LinkedList Node class for your reference\n",
    "class Node:\n",
    "    def __init__(self, data):\n",
    "        self.data = data\n",
    "        self.next = None"
   ]
  },
  {
   "cell_type": "markdown",
   "metadata": {
    "graffitiCellId": "id_l7dimt2"
   },
   "source": [
    "### Exercise - Write the function definition here"
   ]
  },
  {
   "cell_type": "code",
   "execution_count": 26,
   "metadata": {
    "graffitiCellId": "id_rjkafju"
   },
   "outputs": [],
   "source": [
    "def skip_i_delete_j(head, i, j):\n",
    "    \"\"\"\n",
    "    :param: head - head of linked list\n",
    "    :param: i - first `i` nodes that are to be skipped\n",
    "    :param: j - next `j` nodes that are to be deleted\n",
    "    return - return the updated head of the linked list\n",
    "    \"\"\"\n",
    "    if head is None:\n",
    "        return head\n",
    "    \n",
    "    current = head\n",
    "    ct = 0\n",
    "    new_head = None\n",
    "    new_tail = None\n",
    "    \n",
    "    while current:\n",
    "        if ct < i:\n",
    "            if new_head is None:\n",
    "                new_head = current\n",
    "                new_tail = new_head\n",
    "            else:\n",
    "                new_tail.next = current\n",
    "                new_tail = new_tail.next\n",
    "                print(\"data is {} and ct is {}\".format(current.data,ct+1))\n",
    "            ct += 1\n",
    "        else: \n",
    "            ct += 1\n",
    "            if ct == i+j:\n",
    "                ct = 0\n",
    "                print('reset at {}'.format(current.data))\n",
    "        \n",
    "        current = current.next\n",
    "    \n",
    "    new_tail.next = None\n",
    "    return new_head"
   ]
  },
  {
   "cell_type": "markdown",
   "metadata": {
    "graffitiCellId": "id_u0u6fxe"
   },
   "source": [
    "<span class=\"graffiti-highlight graffiti-id_u0u6fxe-id_fydupf2\"><i></i><button>Hide Solution</button></span>"
   ]
  },
  {
   "cell_type": "code",
   "execution_count": 39,
   "metadata": {
    "graffitiCellId": "id_fydupf2"
   },
   "outputs": [],
   "source": [
    "# Solution\n",
    "\"\"\"\n",
    ":param: head - head of linked list\n",
    ":param: i - first `i` nodes that are to be skipped\n",
    ":param: j - next `j` nodes that are to be deleted\n",
    "return - return the updated head of the linked list\n",
    "\"\"\"\n",
    "'''\n",
    "The Idea: \n",
    "Traverse the Linkedist. Make use of two references - `current` and `previous`.\n",
    " - Skip `i-1` nodes. Keep incrementing the `current`. Mark the `i-1`^th node as `previous`. \n",
    " - Delete next `j` nodes. Keep incrementing the `current`.\n",
    " - Connect the `previous.next` to the `current`\n",
    "'''\n",
    "def skip_i_delete_j_1(head, i, j):\n",
    "    # Edge case - Skip 0 nodes (means Delete all nodes)\n",
    "    if i == 0:\n",
    "        return None\n",
    "    \n",
    "    # Edge case - Delete 0 nodes\n",
    "    if j == 0:\n",
    "        return head\n",
    "    \n",
    "    # Invalid input\n",
    "    if head is None or j < 0 or i < 0:\n",
    "        return head\n",
    "\n",
    "    # Helper references\n",
    "    current = head\n",
    "    previous = None\n",
    "    \n",
    "    # Traverse - Loop untill there are Nodes available in the LinkedList\n",
    "    while current:\n",
    "        \n",
    "        '''skip (i - 1) nodes'''\n",
    "        for _ in range(i - 1):  # _ in range(1)\n",
    "            if current is None:\n",
    "                return head\n",
    "            current = current.next # current = 2; current = None\n",
    "            \n",
    "        previous = current    # previous = 2; previous = None\n",
    "        if current is None:\n",
    "            return head\n",
    "        current = current.next  # current = 3\n",
    "        \n",
    "        '''delete next j nodes'''\n",
    "        for _ in range(j):   # _ in range(2)\n",
    "            if current is None:\n",
    "                break\n",
    "            current = current.next\n",
    "            #next_node = current.next  # next_node = 4; next_node = 5\n",
    "            #current = next_node  # current = 4; current = 5\n",
    "        \n",
    "        '''Connect the `previous.next` to the `current`''' \n",
    "        previous.next = current  # previous.next = 5\n",
    "    \n",
    "    # Loop ends\n",
    "    \n",
    "    return head"
   ]
  },
  {
   "cell_type": "markdown",
   "metadata": {
    "graffitiCellId": "id_t5i032o"
   },
   "source": [
    "### Test - Let's test your function"
   ]
  },
  {
   "cell_type": "code",
   "execution_count": 8,
   "metadata": {
    "graffitiCellId": "id_jj92agc"
   },
   "outputs": [],
   "source": [
    "# helper functions for testing purpose\n",
    "def create_linked_list(arr):\n",
    "    if len(arr)==0:\n",
    "        return None\n",
    "    head = Node(arr[0])\n",
    "    tail = head\n",
    "    for data in arr[1:]:\n",
    "        tail.next = Node(data)\n",
    "        tail = tail.next\n",
    "    return head\n",
    "\n",
    "def print_linked_list(head):\n",
    "    while head:\n",
    "        print(head.data, end=' ')\n",
    "        head = head.next\n",
    "    print()"
   ]
  },
  {
   "cell_type": "code",
   "execution_count": 36,
   "metadata": {
    "graffitiCellId": "id_zbgrh5m"
   },
   "outputs": [],
   "source": [
    "def test_function(test_case):\n",
    "    head = test_case[0]\n",
    "    i = test_case[1]\n",
    "    j = test_case[2]\n",
    "    solution = test_case[3]\n",
    "        \n",
    "    temp = skip_i_delete_j_1(head, i, j)\n",
    "    print_linked_list(head)\n",
    "    index = 0\n",
    "    try:\n",
    "        while temp is not None:\n",
    "            if temp.data != solution[index]:\n",
    "                print(\"Fail\")\n",
    "                return\n",
    "            index += 1\n",
    "            temp = temp.next\n",
    "        print(\"Pass\")\n",
    "    except Exception as e:\n",
    "        print(\"Fail\")"
   ]
  },
  {
   "cell_type": "code",
   "execution_count": 44,
   "metadata": {
    "graffitiCellId": "id_3ubvhf7"
   },
   "outputs": [
    {
     "name": "stdout",
     "output_type": "stream",
     "text": [
      "1 2 5 6 9 10 \n",
      "Pass\n"
     ]
    }
   ],
   "source": [
    "arr = [1, 2, 3, 4, 5, 6, 7, 8, 9, 10, 11, 12]\n",
    "i = 2\n",
    "j = 2\n",
    "head = create_linked_list(arr)\n",
    "solution = [1, 2, 5, 6, 9, 10]\n",
    "test_case = [head, i, j, solution]\n",
    "test_function(test_case)"
   ]
  },
  {
   "cell_type": "code",
   "execution_count": 43,
   "metadata": {
    "graffitiCellId": "id_5kf8py2"
   },
   "outputs": [
    {
     "name": "stdout",
     "output_type": "stream",
     "text": [
      "1 2 6 7 11 12 \n",
      "Pass\n"
     ]
    }
   ],
   "source": [
    "arr = [1, 2, 3, 4, 5, 6, 7, 8, 9, 10, 11, 12]\n",
    "i = 2\n",
    "j = 3\n",
    "head = create_linked_list(arr)\n",
    "solution = [1, 2, 6, 7, 11, 12]\n",
    "test_case = [head, i, j, solution]\n",
    "test_function(test_case)\n"
   ]
  },
  {
   "cell_type": "code",
   "execution_count": 42,
   "metadata": {
    "graffitiCellId": "id_c81v4ae"
   },
   "outputs": [
    {
     "name": "stdout",
     "output_type": "stream",
     "text": [
      "1 2 \n",
      "Pass\n"
     ]
    }
   ],
   "source": [
    "arr = [1, 2, 3, 4, 5]\n",
    "i = 2\n",
    "j = 4\n",
    "head = create_linked_list(arr)\n",
    "solution = [1, 2]\n",
    "test_case = [head, i, j, solution]\n",
    "test_function(test_case)"
   ]
  },
  {
   "cell_type": "code",
   "execution_count": 41,
   "metadata": {
    "graffitiCellId": "id_0zxoieg"
   },
   "outputs": [
    {
     "name": "stdout",
     "output_type": "stream",
     "text": [
      "1 2 3 4 5 \n",
      "Pass\n"
     ]
    }
   ],
   "source": [
    "arr = [1, 2, 3, 4, 5]\n",
    "i = 2\n",
    "j = 0\n",
    "head = create_linked_list(arr)\n",
    "solution = [1, 2, 3, 4, 5]\n",
    "test_case = [head, i, j, solution]\n",
    "test_function(test_case)"
   ]
  },
  {
   "cell_type": "code",
   "execution_count": 40,
   "metadata": {
    "graffitiCellId": "id_xlusnew"
   },
   "outputs": [
    {
     "name": "stdout",
     "output_type": "stream",
     "text": [
      "1 2 5 \n",
      "Pass\n"
     ]
    }
   ],
   "source": [
    "arr = [1, 2, 3, 4, 5]\n",
    "i = 2\n",
    "j = 2\n",
    "head = create_linked_list(arr)\n",
    "solution = [1, 2, 5]\n",
    "test_case = [head, i, j, solution]\n",
    "test_function(test_case)"
   ]
  },
  {
   "cell_type": "code",
   "execution_count": null,
   "metadata": {
    "graffitiCellId": "id_uk2mr80"
   },
   "outputs": [],
   "source": []
  }
 ],
 "metadata": {
  "graffiti": {
   "firstAuthorId": "dev",
   "id": "id_2oggofo",
   "language": "EN"
  },
  "kernelspec": {
   "display_name": "Python 3",
   "language": "python",
   "name": "python3"
  },
  "language_info": {
   "codemirror_mode": {
    "name": "ipython",
    "version": 3
   },
   "file_extension": ".py",
   "mimetype": "text/x-python",
   "name": "python",
   "nbconvert_exporter": "python",
   "pygments_lexer": "ipython3",
   "version": "3.6.3"
  }
 },
 "nbformat": 4,
 "nbformat_minor": 2
}
