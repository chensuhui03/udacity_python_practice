{
 "cells": [
  {
   "cell_type": "code",
   "execution_count": 1,
   "metadata": {},
   "outputs": [],
   "source": [
    "# this code makes the tree that we'll traverse\n",
    "\n",
    "class Node(object):\n",
    "        \n",
    "    def __init__(self,value = None):\n",
    "        self.value = value\n",
    "        self.left = None\n",
    "        self.right = None\n",
    "        self.path = None\n",
    "        \n",
    "    def set_value(self,value):\n",
    "        self.value = value\n",
    "        \n",
    "    def get_value(self):\n",
    "        return self.value\n",
    "        \n",
    "    def set_left_child(self,left):\n",
    "        self.left = left\n",
    "        \n",
    "    def set_right_child(self, right):\n",
    "        self.right = right\n",
    "        \n",
    "    def get_left_child(self):\n",
    "        return self.left\n",
    "    \n",
    "    def get_right_child(self):\n",
    "        return self.right\n",
    "\n",
    "    def has_left_child(self):\n",
    "        return self.left != None\n",
    "    \n",
    "    def has_right_child(self):\n",
    "        return self.right != None\n",
    "    \n",
    "    def path(self):\n",
    "        return self.path\n",
    "    \n",
    "    # define __repr_ to decide what a print statement displays for a Node object\n",
    "    def __repr__(self):\n",
    "        return f\"Node({self.get_value()})\"\n",
    "    \n",
    "    def __str__(self):\n",
    "        return f\"Node({self.get_value()})\"\n",
    "    \n",
    "    \n",
    "class Tree():\n",
    "    def __init__(self, value=None):\n",
    "        self.root = Node(value)\n",
    "        \n",
    "    def get_root(self):\n",
    "        return self.root"
   ]
  },
  {
   "cell_type": "code",
   "execution_count": 2,
   "metadata": {},
   "outputs": [],
   "source": [
    "# create a tree and add some nodes\n",
    "tree = Tree(\"apple\")\n",
    "tree.get_root().set_left_child(Node(\"banana\"))\n",
    "tree.get_root().set_right_child(Node(\"cherry\"))\n",
    "tree.get_root().get_left_child().set_left_child(Node(\"dates\"))"
   ]
  },
  {
   "cell_type": "code",
   "execution_count": 5,
   "metadata": {},
   "outputs": [],
   "source": [
    "def pre_order(tree):\n",
    "    visit_order = list()\n",
    "    root = tree.get_root()\n",
    "    path = list()\n",
    "    \n",
    "    def traverse(node):\n",
    "        if node:\n",
    "            visit_order.append(node.get_value())\n",
    "            if node.get_left_child:\n",
    "                path.append('0')\n",
    "            traverse(node.get_left_child())\n",
    "            if node.get_right_child:\n",
    "                path.append('1')\n",
    "            traverse(node.get_right_child())\n",
    "                    \n",
    "    traverse(root)\n",
    "    \n",
    "    return visit_order, path"
   ]
  },
  {
   "cell_type": "code",
   "execution_count": 6,
   "metadata": {},
   "outputs": [
    {
     "data": {
      "text/plain": [
       "(['apple', 'banana', 'dates', 'cherry'],\n",
       " ['0', '0', '0', '1', '1', '1', '0', '1'])"
      ]
     },
     "execution_count": 6,
     "metadata": {},
     "output_type": "execute_result"
    }
   ],
   "source": [
    "pre_order(tree)"
   ]
  },
  {
   "cell_type": "code",
   "execution_count": 9,
   "metadata": {},
   "outputs": [],
   "source": [
    "def set_path(tree):\n",
    "    node = tree.root()\n",
    "    node.path = \"\"\n",
    "    \n",
    "    def traverse_path(node):\n",
    "        if node.get_left_child():\n",
    "            node.left.path = node.path + \"0\"\n",
    "            traverse_path(node.get_left_child())\n",
    "        if node.get_right_child():\n",
    "            node.right.path = node.path + \"1\"\n",
    "            traverse_path(node.get_right_child())\n",
    "    \n",
    "    "
   ]
  },
  {
   "cell_type": "code",
   "execution_count": 10,
   "metadata": {},
   "outputs": [],
   "source": [
    "# this code makes the tree that we'll traverse\n",
    "\n",
    "class Node(object):\n",
    "        \n",
    "    def __init__(self,value = None):\n",
    "        self.value = value\n",
    "        self.left = None\n",
    "        self.right = None\n",
    "        self.path = None\n",
    "        \n",
    "    def set_value(self,value):\n",
    "        self.value = value\n",
    "        \n",
    "    def get_value(self):\n",
    "        return self.value\n",
    "        \n",
    "    def set_left_child(self,left):\n",
    "        self.left = left\n",
    "        \n",
    "    def set_right_child(self, right):\n",
    "        self.right = right\n",
    "        \n",
    "    def get_left_child(self):\n",
    "        return self.left\n",
    "    \n",
    "    def get_right_child(self):\n",
    "        return self.right\n",
    "\n",
    "    def has_left_child(self):\n",
    "        return self.left != None\n",
    "    \n",
    "    def has_right_child(self):\n",
    "        return self.right != None\n",
    "     \n",
    "    # define __repr_ to decide what a print statement displays for a Node object\n",
    "    def __repr__(self):\n",
    "        return f\"Node({self.get_value()})\"\n",
    "    \n",
    "    def __str__(self):\n",
    "        return f\"Node({self.get_value()})\"\n",
    "    \n",
    "    \n",
    "class Tree():\n",
    "    def __init__(self, value=None):\n",
    "        self.root = Node(value)\n",
    "        \n",
    "    def get_root(self):\n",
    "        return self.root\n",
    "\n",
    "# create a tree and add some nodes\n",
    "tree = Tree(\"apple\")\n",
    "tree.get_root().set_left_child(Node(\"banana\"))\n",
    "tree.get_root().set_right_child(Node(\"cherry\"))\n",
    "tree.get_root().get_left_child().set_left_child(Node(\"dates\"))\n",
    "\n",
    "def set_path(tree):\n",
    "    node = tree.get_root()\n",
    "    node.path = \"\"\n",
    "    \n",
    "    def traverse_path(node):\n",
    "        if node:\n",
    "            if node.get_left_child():\n",
    "                node.left.path = node.path + \"0\"\n",
    "                traverse_path(node.get_left_child())\n",
    "            if node.get_right_child():\n",
    "                node.right.path = node.path + \"1\"\n",
    "                traverse_path(node.get_right_child())\n",
    "\n",
    "set_path(tree)"
   ]
  },
  {
   "cell_type": "code",
   "execution_count": 11,
   "metadata": {},
   "outputs": [
    {
     "data": {
      "text/plain": [
       "''"
      ]
     },
     "execution_count": 11,
     "metadata": {},
     "output_type": "execute_result"
    }
   ],
   "source": [
    "apple = tree.get_root()\n",
    "apple.path"
   ]
  },
  {
   "cell_type": "code",
   "execution_count": 14,
   "metadata": {},
   "outputs": [],
   "source": [
    "banana = apple.get_left_child()\n",
    "banana.path"
   ]
  },
  {
   "cell_type": "code",
   "execution_count": 15,
   "metadata": {},
   "outputs": [],
   "source": [
    "def pre_order_trav(node):\n",
    "    if node:\n",
    "        print(node.value)\n",
    "        pre_order_trav(node.get_left_child())\n",
    "        pre_order_trav(node.get_right_child())\n"
   ]
  },
  {
   "cell_type": "code",
   "execution_count": 16,
   "metadata": {},
   "outputs": [
    {
     "name": "stdout",
     "output_type": "stream",
     "text": [
      "apple\n",
      "banana\n",
      "dates\n",
      "cherry\n"
     ]
    }
   ],
   "source": [
    "pre_order_trav(tree.get_root())"
   ]
  },
  {
   "cell_type": "code",
   "execution_count": 18,
   "metadata": {},
   "outputs": [
    {
     "name": "stdout",
     "output_type": "stream",
     "text": [
      "apple\n",
      "banana\n",
      "dates\n",
      "cherry\n"
     ]
    },
    {
     "data": {
      "text/plain": [
       "8"
      ]
     },
     "execution_count": 18,
     "metadata": {},
     "output_type": "execute_result"
    }
   ],
   "source": [
    "def pre_order_trav2(node):\n",
    "    # Step 1. termination\n",
    "    if node is None:\n",
    "        return\n",
    "    \n",
    "    # Step 2. execution\n",
    "    print(node.value)\n",
    "    \n",
    "    # Step 3, recursion of sub problems\n",
    "    pre_order_trav(node.get_left_child())\n",
    "    pre_order_trav(node.get_right_child())\n",
    "    \n",
    "    # Step 4. handle after recusion\n",
    "    \n",
    "pre_order_trav2(tree.get_root())\n",
    "\n",
    "def calc_fib(n):\n",
    "    # step1 \n",
    "    if n == 0:\n",
    "        return 1\n",
    "    if n == 1:\n",
    "        return 1\n",
    "    \n",
    "    # step 2, pass\n",
    "    \n",
    "    # step 3\n",
    "    n_minus_1_res = calc_fib(n-1) \n",
    "    n_minus_2_res = calc_fib(n-2)\n",
    "    \n",
    "    # step 4\n",
    "    n_res = n_minus_1_res + n_minus_2_res\n",
    "    return n_res\n",
    "\n",
    "calc_fib(5)"
   ]
  },
  {
   "cell_type": "code",
   "execution_count": null,
   "metadata": {},
   "outputs": [],
   "source": [
    "# preorder_visit apple\n",
    "# preorder_visit banana\n",
    "# ...\n",
    "# postorder_visit xxx"
   ]
  },
  {
   "cell_type": "code",
   "execution_count": 20,
   "metadata": {},
   "outputs": [
    {
     "name": "stdout",
     "output_type": "stream",
     "text": [
      "preorder_visit apple\n",
      "preorder_visit banana\n",
      "preorder_visit dates\n",
      "postorder_visit dates\n",
      "postorder_visit banana\n",
      "preorder_visit cherry\n",
      "postorder_visit cherry\n",
      "postorder_visit apple\n"
     ]
    }
   ],
   "source": [
    "def comb_order_trav(node):\n",
    "    if node is None:\n",
    "        return\n",
    "    print(\"preorder_visit {}\".format(node.value))\n",
    "    comb_order_trav(node.get_left_child())\n",
    "    comb_order_trav(node.get_right_child())\n",
    "    print(\"postorder_visit {}\".format(node.value))\n",
    "    \n",
    "comb_order_trav(tree.get_root())"
   ]
  },
  {
   "cell_type": "code",
   "execution_count": 41,
   "metadata": {},
   "outputs": [
    {
     "name": "stdout",
     "output_type": "stream",
     "text": [
      "Visiting apple with path []\n",
      "Visiting banana with path ['apple']\n",
      "Visiting dates with path ['apple', 'banana']\n",
      "Visiting cherry with path ['apple']\n"
     ]
    }
   ],
   "source": [
    "def trav_tree_print_path(node,path):\n",
    "    if node is None:\n",
    "        return \n",
    "    \n",
    "    print(\"Visiting {} with path {}\".format(node.value,path))\n",
    "    \n",
    "    path.append(node.value)\n",
    "    trav_tree_print_path(node.get_left_child(), path)\n",
    "    trav_tree_print_path(node.get_right_child(), path)\n",
    "\n",
    "    path.pop()\n",
    "    \n",
    "trav_tree_print_path(tree.get_root(),[])"
   ]
  },
  {
   "cell_type": "code",
   "execution_count": 34,
   "metadata": {},
   "outputs": [
    {
     "name": "stdout",
     "output_type": "stream",
     "text": [
      "Visiting apple with path []\n",
      "Visiting banana with path ['apple']\n",
      "Visiting dates with path ['apple', 'banana']\n",
      "Visiting cherry with path []\n"
     ]
    }
   ],
   "source": []
  },
  {
   "cell_type": "code",
   "execution_count": 72,
   "metadata": {},
   "outputs": [
    {
     "data": {
      "text/plain": [
       "{'dates': '00', 'cherry': '1'}"
      ]
     },
     "execution_count": 72,
     "metadata": {},
     "output_type": "execute_result"
    }
   ],
   "source": [
    "def walk_tree(tree):\n",
    "    word_dict = dict()\n",
    "    #walk the tree\n",
    "    node = tree.get_root()\n",
    "    code = []\n",
    "    trav_tree_print_path(tree.get_root(),code,word_dict)\n",
    "    return word_dict\n",
    "\n",
    "def trav_tree_print_path(node,path,word_dict):\n",
    "    if node is None:\n",
    "        return \n",
    "    \n",
    "    if not node.get_left_child() and not node.get_right_child():\n",
    "        code = ''.join(path)\n",
    "        word_dict[node.value] = code\n",
    "    \n",
    "    path.append(\"0\")\n",
    "    trav_tree_print_path(node.get_left_child(),path,word_dict)\n",
    "    path.pop()\n",
    "    path.append(\"1\")\n",
    "    trav_tree_print_path(node.get_right_child(),path,word_dict)\n",
    "    path.pop()\n",
    "\n",
    "walk_tree(tree)"
   ]
  },
  {
   "cell_type": "code",
   "execution_count": 64,
   "metadata": {},
   "outputs": [],
   "source": [
    "def hanoi(start,end,middle,n):\n",
    "    if n == 1:\n",
    "        print(\"from {} to {}\".format(start,end))\n",
    "        return\n",
    "    \n",
    "    #move n-1 plates from start to the middle\n",
    "    hanoi(start,middle,end,n-1)\n",
    "    #move n_th plate from start to the end\n",
    "    print(\"from {} to {}\".format(start,end))\n",
    "    #move n-1 plates from middle to the end\n",
    "    hanoi(middle,end,start,n-1)"
   ]
  },
  {
   "cell_type": "code",
   "execution_count": 65,
   "metadata": {},
   "outputs": [
    {
     "name": "stdout",
     "output_type": "stream",
     "text": [
      "from A to C\n",
      "from A to B\n",
      "from C to B\n",
      "from A to C\n",
      "from B to A\n",
      "from B to C\n",
      "from A to C\n"
     ]
    }
   ],
   "source": [
    "hanoi(\"A\",\"C\",\"B\",3)"
   ]
  },
  {
   "cell_type": "code",
   "execution_count": null,
   "metadata": {},
   "outputs": [],
   "source": []
  }
 ],
 "metadata": {
  "kernelspec": {
   "display_name": "Python 3",
   "language": "python",
   "name": "python3"
  },
  "language_info": {
   "codemirror_mode": {
    "name": "ipython",
    "version": 3
   },
   "file_extension": ".py",
   "mimetype": "text/x-python",
   "name": "python",
   "nbconvert_exporter": "python",
   "pygments_lexer": "ipython3",
   "version": "3.7.1"
  }
 },
 "nbformat": 4,
 "nbformat_minor": 2
}
