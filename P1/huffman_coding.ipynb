{
 "cells": [
  {
   "cell_type": "code",
   "execution_count": 6,
   "metadata": {},
   "outputs": [
    {
     "name": "stdout",
     "output_type": "stream",
     "text": [
      "The size of the data is: 74\n",
      "\n",
      "The content of the data is: AAAAAAABBBCCCCCCCDDEEEEEE\n",
      "\n",
      "{'D': '000', 'B': '001', 'E': '01', 'A': '10', 'C': '11'}\n",
      "The size of the encoded data is: 32\n",
      "\n",
      "The content of the encoded data is: 1010101010101000100100111111111111111000000010101010101\n",
      "\n",
      "The size of the decoded data is: 74\n",
      "\n",
      "The content of the encoded data is: AAAAAAABBBCCCCCCCDDEEEEEE\n",
      "\n"
     ]
    }
   ],
   "source": [
    "import sys\n",
    "import heapq\n",
    "\n",
    "class Node:\n",
    "    \n",
    "    def __init__(self,charactor,count,left=None,right=None):\n",
    "        self.charactor = charactor\n",
    "        self.count = count\n",
    "        self.left = left\n",
    "        self.right = right\n",
    "    \n",
    "    def get_charactor(self):\n",
    "        return self.charactor\n",
    "    \n",
    "    def get_left_child(self):\n",
    "        return self.left\n",
    "    \n",
    "    def get_right_child(self):\n",
    "        return self.right\n",
    "    \n",
    "    def has_left_child(self):\n",
    "        return self.left != None\n",
    "    \n",
    "    def has_right_child(self):\n",
    "        return self.right != None\n",
    "    \n",
    "    def __lt__(self, other):\n",
    "        return (self.count, self.charactor) < (other.count, other.charactor)\n",
    "\n",
    "class Tree:\n",
    "    def __init__(self, node = None):\n",
    "        self.root = node\n",
    "    \n",
    "    def get_root(self):\n",
    "        return self.root\n",
    "        \n",
    "def huffman_encoding(data):\n",
    "    word_count = counting(data)\n",
    "    \n",
    "    # creating a priority queue\n",
    "    word_heap = []\n",
    "    for charactor, count in word_count.items():\n",
    "        node = Node(charactor,count)\n",
    "        heapq.heappush(word_heap,node)\n",
    "    \n",
    "    # reconstructing the tree\n",
    "    while len(word_heap) > 1:\n",
    "        left_child = heapq.heappop(word_heap)\n",
    "        right_child = heapq.heappop(word_heap)\n",
    "        new_node = Node(\"\",left_child.count+right_child.count,left_child,right_child)\n",
    "        heapq.heappush(word_heap,new_node)\n",
    "        \n",
    "    huffman_tree = Tree(heapq.heappop(word_heap))\n",
    "    \n",
    "    # walk the tree to find code for each charactor and store in dict\n",
    "    word_dict = walk_tree(huffman_tree)\n",
    "    \n",
    "    # based on the sentence, generate huffman code based on code table\n",
    "    huffman_code = encode(data,word_dict)\n",
    "    \n",
    "    return huffman_code, huffman_tree\n",
    "\n",
    "\n",
    "def counting(data):\n",
    "    word_count = dict()\n",
    "    for i in range(len(data)):\n",
    "        if data[i] not in word_count:\n",
    "            word_count[data[i]] = 1\n",
    "        else:\n",
    "            word_count[data[i]] += 1\n",
    "    return word_count\n",
    "\n",
    "\n",
    "def walk_tree(tree):\n",
    "    word_dict = dict()\n",
    "    #walk the tree\n",
    "    node = tree.get_root()\n",
    "    code = []\n",
    "    trav_tree_print_path(tree.get_root(),code,word_dict)\n",
    "    print(word_dict)\n",
    "    return word_dict\n",
    "\n",
    "\n",
    "def trav_tree_print_path(node,path,word_dict):\n",
    "    if node is None:\n",
    "        return \n",
    "    \n",
    "    if not node.get_left_child() and not node.get_right_child():\n",
    "        code = ''.join(path)\n",
    "        word_dict[node.charactor] = code\n",
    "    \n",
    "    path.append(\"0\")\n",
    "    trav_tree_print_path(node.get_left_child(),path,word_dict)\n",
    "    path.pop()\n",
    "    path.append(\"1\")\n",
    "    trav_tree_print_path(node.get_right_child(),path,word_dict)\n",
    "    path.pop()\n",
    "\n",
    "    \n",
    "def encode(data,word_dict):\n",
    "    result = \"\"\n",
    "    for i in range(len(data)):\n",
    "        result += word_dict[data[i]]\n",
    "    return result\n",
    "    \n",
    "\n",
    "def huffman_decoding(data,tree):\n",
    "    decode = \"\"\n",
    "    node = tree.get_root()\n",
    "    for i in range(len(data)):\n",
    "        if data[i] == \"0\":\n",
    "            node = node.get_left_child()\n",
    "        if data[i] == \"1\":\n",
    "            node = node.get_right_child()\n",
    "        if node.charactor is not None and node.charactor != \"\":\n",
    "            decode += node.charactor\n",
    "            node = tree.get_root()\n",
    "\n",
    "    return decode                        \n",
    "\n",
    "\n",
    "if __name__ == \"__main__\":\n",
    "    codes = {}\n",
    "\n",
    "    a_great_sentence = \"AAAAAAABBBCCCCCCCDDEEEEEE\"\n",
    "\n",
    "    print (\"The size of the data is: {}\\n\".format(sys.getsizeof(a_great_sentence)))\n",
    "    print (\"The content of the data is: {}\\n\".format(a_great_sentence))\n",
    "\n",
    "    encoded_data, tree = huffman_encoding(a_great_sentence)\n",
    "\n",
    "    print (\"The size of the encoded data is: {}\\n\".format(sys.getsizeof(int(encoded_data, base=2))))\n",
    "    print (\"The content of the encoded data is: {}\\n\".format(encoded_data))\n",
    "\n",
    "    decoded_data = huffman_decoding(encoded_data, tree)\n",
    "\n",
    "    print (\"The size of the decoded data is: {}\\n\".format(sys.getsizeof(decoded_data)))\n",
    "    print (\"The content of the encoded data is: {}\\n\".format(decoded_data))"
   ]
  },
  {
   "cell_type": "code",
   "execution_count": null,
   "metadata": {},
   "outputs": [],
   "source": [
    "counting(\"The bird is the word\")"
   ]
  },
  {
   "cell_type": "code",
   "execution_count": null,
   "metadata": {},
   "outputs": [],
   "source": [
    "import heapq\n",
    "\n",
    "A=[('a',2),('b',1), ('d', 0), ('c', 2), ('a', 2)]\n",
    "h = []\n",
    "for el in A:\n",
    "    heapq.heappush(h, (el[1], el))\n",
    "\n",
    "print(h)"
   ]
  },
  {
   "cell_type": "code",
   "execution_count": null,
   "metadata": {},
   "outputs": [],
   "source": [
    "class Node:\n",
    "    \n",
    "    def __init__(self,charactor,count):\n",
    "        self.charactor = charactor\n",
    "        self.count = count\n",
    "        self.left = None\n",
    "        self.right = None\n",
    "\n",
    "node1 = Node('a',2)\n",
    "node2 = Node('b',1)\n",
    "node3 = Node('d',0)\n",
    "B = [node1,node2,node3]\n",
    "h2 = []\n",
    "for el in B:\n",
    "    heapq.heappush(h2, (el.count,el))\n",
    "print(h2)"
   ]
  },
  {
   "cell_type": "code",
   "execution_count": null,
   "metadata": {},
   "outputs": [],
   "source": [
    "string = \"0\"+\"1\""
   ]
  },
  {
   "cell_type": "code",
   "execution_count": null,
   "metadata": {},
   "outputs": [],
   "source": [
    "string[:-1]"
   ]
  },
  {
   "cell_type": "code",
   "execution_count": null,
   "metadata": {},
   "outputs": [],
   "source": [
    "def pre_order(tree):\n",
    "    visit_order = list()\n",
    "    root = tree.get_root()\n",
    "    \n",
    "    def traverse(node):\n",
    "        if node:\n",
    "            visit_order.append(node.get_value())\n",
    "            traverse(node.get_left_child())\n",
    "            traverse(node.get_right_child())\n",
    "            \n",
    "    traverse(root)\n",
    "    \n",
    "    return visit_order"
   ]
  },
  {
   "cell_type": "code",
   "execution_count": null,
   "metadata": {},
   "outputs": [],
   "source": [
    "pre_order(huffman_tree)"
   ]
  },
  {
   "cell_type": "code",
   "execution_count": null,
   "metadata": {},
   "outputs": [],
   "source": [
    "a_great_sentence = \"The bird is the word\""
   ]
  },
  {
   "cell_type": "code",
   "execution_count": null,
   "metadata": {},
   "outputs": [],
   "source": [
    "(1,2)<(1,3)"
   ]
  },
  {
   "cell_type": "code",
   "execution_count": 2,
   "metadata": {},
   "outputs": [
    {
     "ename": "NameError",
     "evalue": "name 'word_dict' is not defined",
     "output_type": "error",
     "traceback": [
      "\u001b[0;31m---------------------------------------------------------------------------\u001b[0m",
      "\u001b[0;31mNameError\u001b[0m                                 Traceback (most recent call last)",
      "\u001b[0;32m<ipython-input-2-45ffcf22d739>\u001b[0m in \u001b[0;36m<module>\u001b[0;34m\u001b[0m\n\u001b[0;32m----> 1\u001b[0;31m \u001b[0mword_dict\u001b[0m\u001b[0;34m\u001b[0m\u001b[0;34m\u001b[0m\u001b[0m\n\u001b[0m",
      "\u001b[0;31mNameError\u001b[0m: name 'word_dict' is not defined"
     ]
    }
   ],
   "source": []
  },
  {
   "cell_type": "code",
   "execution_count": null,
   "metadata": {},
   "outputs": [],
   "source": []
  }
 ],
 "metadata": {
  "kernelspec": {
   "display_name": "Python 3",
   "language": "python",
   "name": "python3"
  },
  "language_info": {
   "codemirror_mode": {
    "name": "ipython",
    "version": 3
   },
   "file_extension": ".py",
   "mimetype": "text/x-python",
   "name": "python",
   "nbconvert_exporter": "python",
   "pygments_lexer": "ipython3",
   "version": "3.7.1"
  }
 },
 "nbformat": 4,
 "nbformat_minor": 2
}
